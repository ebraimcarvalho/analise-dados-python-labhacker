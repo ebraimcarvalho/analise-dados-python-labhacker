{
 "cells": [
  {
   "cell_type": "markdown",
   "metadata": {},
   "source": [
    "## Análise dados Copa do Mundo\n",
    "Dados obtidos do site do wikipedia, análise pelo público pagante nas finais de cada edição\n",
    "\n",
    "Link -> https://pt.wikipedia.org/wiki/Copa_do_Mundo_FIFA"
   ]
  },
  {
   "cell_type": "code",
   "execution_count": 1,
   "metadata": {},
   "outputs": [],
   "source": [
    "# Importa bibliotecas\n",
    "import pandas as pd\n",
    "import requests\n",
    "\n",
    "# Aloca a url na variável URL\n",
    "url = 'https://pt.wikipedia.org/wiki/Copa_do_Mundo_FIFA'\n",
    "\n",
    "# Faz requisição à url e aloca na variável resposta\n",
    "resposta = requests.get(url)"
   ]
  },
  {
   "cell_type": "code",
   "execution_count": 2,
   "metadata": {},
   "outputs": [],
   "source": [
    "# Aloca a resposta do html da página na variavel table, para tratarmos posteriormente\n",
    "table = pd.read_html(resposta.text)"
   ]
  },
  {
   "cell_type": "code",
   "execution_count": 3,
   "metadata": {},
   "outputs": [
    {
     "data": {
      "text/html": [
       "<div>\n",
       "<style scoped>\n",
       "    .dataframe tbody tr th:only-of-type {\n",
       "        vertical-align: middle;\n",
       "    }\n",
       "\n",
       "    .dataframe tbody tr th {\n",
       "        vertical-align: top;\n",
       "    }\n",
       "\n",
       "    .dataframe thead th {\n",
       "        text-align: right;\n",
       "    }\n",
       "</style>\n",
       "<table border=\"1\" class=\"dataframe\">\n",
       "  <thead>\n",
       "    <tr style=\"text-align: right;\">\n",
       "      <th></th>\n",
       "      <th>Edição</th>\n",
       "      <th>Ano</th>\n",
       "      <th>Estádio</th>\n",
       "      <th>Local</th>\n",
       "      <th>Público pagante</th>\n",
       "    </tr>\n",
       "  </thead>\n",
       "  <tbody>\n",
       "    <tr>\n",
       "      <th>0</th>\n",
       "      <td>I</td>\n",
       "      <td>1930</td>\n",
       "      <td>Estádio Centenário</td>\n",
       "      <td>Montevidéu</td>\n",
       "      <td>68.346</td>\n",
       "    </tr>\n",
       "    <tr>\n",
       "      <th>1</th>\n",
       "      <td>II</td>\n",
       "      <td>1934</td>\n",
       "      <td>Estádio do Partido Nacional Fascista</td>\n",
       "      <td>Roma</td>\n",
       "      <td>55.000</td>\n",
       "    </tr>\n",
       "    <tr>\n",
       "      <th>2</th>\n",
       "      <td>III</td>\n",
       "      <td>1938</td>\n",
       "      <td>Estádio Olímpico Yves-du-Manoir</td>\n",
       "      <td>Colombes</td>\n",
       "      <td>45.000</td>\n",
       "    </tr>\n",
       "    <tr>\n",
       "      <th>3</th>\n",
       "      <td>IV</td>\n",
       "      <td>1950</td>\n",
       "      <td>Estádio do Maracanã</td>\n",
       "      <td>Rio de Janeiro</td>\n",
       "      <td>173.850</td>\n",
       "    </tr>\n",
       "    <tr>\n",
       "      <th>4</th>\n",
       "      <td>V</td>\n",
       "      <td>1954</td>\n",
       "      <td>Estádio Wankdorf</td>\n",
       "      <td>Berna</td>\n",
       "      <td>62.500</td>\n",
       "    </tr>\n",
       "  </tbody>\n",
       "</table>\n",
       "</div>"
      ],
      "text/plain": [
       "  Edição   Ano                               Estádio           Local  \\\n",
       "0      I  1930                    Estádio Centenário      Montevidéu   \n",
       "1     II  1934  Estádio do Partido Nacional Fascista            Roma   \n",
       "2    III  1938       Estádio Olímpico Yves-du-Manoir        Colombes   \n",
       "3     IV  1950                   Estádio do Maracanã  Rio de Janeiro   \n",
       "4      V  1954                      Estádio Wankdorf           Berna   \n",
       "\n",
       "   Público pagante  \n",
       "0           68.346  \n",
       "1           55.000  \n",
       "2           45.000  \n",
       "3          173.850  \n",
       "4           62.500  "
      ]
     },
     "execution_count": 3,
     "metadata": {},
     "output_type": "execute_result"
    }
   ],
   "source": [
    "# Seleciona a 12ª Tabela da resposta, que é a tabela que queremos trabalhar\n",
    "df = table[11]\n",
    "\n",
    "# Visualiza as 5 primeiras linhas do dataframe\n",
    "df.head()"
   ]
  }
 ],
 "metadata": {
  "kernelspec": {
   "display_name": "Python 3",
   "language": "python",
   "name": "python3"
  },
  "language_info": {
   "codemirror_mode": {
    "name": "ipython",
    "version": 3
   },
   "file_extension": ".py",
   "mimetype": "text/x-python",
   "name": "python",
   "nbconvert_exporter": "python",
   "pygments_lexer": "ipython3",
   "version": "3.8.3"
  }
 },
 "nbformat": 4,
 "nbformat_minor": 4
}
