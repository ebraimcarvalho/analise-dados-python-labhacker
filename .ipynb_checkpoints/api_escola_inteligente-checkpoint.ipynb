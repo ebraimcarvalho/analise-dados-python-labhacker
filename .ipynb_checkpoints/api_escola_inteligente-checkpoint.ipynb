{
 "cells": [
  {
   "cell_type": "markdown",
   "metadata": {},
   "source": [
    "## Análise dos dados do Escolas Inteligentes\n",
    "São dados do INEP disponibilizados por meio de API\n",
    "\n",
    "Link => http://educacao.dadosabertosbr.com/api/escolas/buscaavancada?situacaoFuncionamento=1&energiaInexistente=on&aguaInexistente=on&esgotoInexistente=on&cozinha=on"
   ]
  },
  {
   "cell_type": "code",
   "execution_count": 4,
   "metadata": {},
   "outputs": [],
   "source": [
    "# Importando Bibliotecas\n",
    "import pandas as pd\n",
    "import requests\n",
    "\n",
    "# Variável para URL\n",
    "url = 'http://educacao.dadosabertosbr.com/api/escolas/buscaavancada?situacaoFuncionamento=1&energiaInexistente=on&aguaInexistente=on&esgotoInexistente=on&cozinha=on'\n",
    "\n",
    "# Variável para receber resposta\n",
    "resposta = requests.get(url)"
   ]
  },
  {
   "cell_type": "code",
   "execution_count": 5,
   "metadata": {
    "scrolled": false
   },
   "outputs": [
    {
     "data": {
      "text/html": [
       "<div>\n",
       "<style scoped>\n",
       "    .dataframe tbody tr th:only-of-type {\n",
       "        vertical-align: middle;\n",
       "    }\n",
       "\n",
       "    .dataframe tbody tr th {\n",
       "        vertical-align: top;\n",
       "    }\n",
       "\n",
       "    .dataframe thead th {\n",
       "        text-align: right;\n",
       "    }\n",
       "</style>\n",
       "<table border=\"1\" class=\"dataframe\">\n",
       "  <thead>\n",
       "    <tr style=\"text-align: right;\">\n",
       "      <th></th>\n",
       "      <th>anoCenso</th>\n",
       "      <th>cod</th>\n",
       "      <th>nome</th>\n",
       "      <th>codCidade</th>\n",
       "      <th>cidade</th>\n",
       "      <th>estado</th>\n",
       "      <th>regiao</th>\n",
       "      <th>situacaoFuncionamento</th>\n",
       "      <th>dependenciaAdministrativa</th>\n",
       "      <th>idebAI</th>\n",
       "      <th>idebAF</th>\n",
       "      <th>enemMediaGeral</th>\n",
       "      <th>situacaoFuncionamentoTxt</th>\n",
       "      <th>dependenciaAdministrativaTxt</th>\n",
       "    </tr>\n",
       "  </thead>\n",
       "  <tbody>\n",
       "    <tr>\n",
       "      <th>0</th>\n",
       "      <td>2013</td>\n",
       "      <td>41036026</td>\n",
       "      <td>BAIRRO DOS MENDES E R M EF</td>\n",
       "      <td>4104402</td>\n",
       "      <td>CANDIDO DE ABREU</td>\n",
       "      <td>PR</td>\n",
       "      <td>Sul</td>\n",
       "      <td>1</td>\n",
       "      <td>3</td>\n",
       "      <td>0.0</td>\n",
       "      <td>0.0</td>\n",
       "      <td>0.0</td>\n",
       "      <td>Em atividade</td>\n",
       "      <td>Municipal</td>\n",
       "    </tr>\n",
       "    <tr>\n",
       "      <th>1</th>\n",
       "      <td>2013</td>\n",
       "      <td>15008258</td>\n",
       "      <td>E M E F AGUA AZUL</td>\n",
       "      <td>1504802</td>\n",
       "      <td>MONTE ALEGRE</td>\n",
       "      <td>PA</td>\n",
       "      <td>Norte</td>\n",
       "      <td>1</td>\n",
       "      <td>3</td>\n",
       "      <td>0.0</td>\n",
       "      <td>0.0</td>\n",
       "      <td>0.0</td>\n",
       "      <td>Em atividade</td>\n",
       "      <td>Municipal</td>\n",
       "    </tr>\n",
       "    <tr>\n",
       "      <th>2</th>\n",
       "      <td>2013</td>\n",
       "      <td>15534340</td>\n",
       "      <td>E M E F AGUA BOA</td>\n",
       "      <td>1505650</td>\n",
       "      <td>PLACAS</td>\n",
       "      <td>PA</td>\n",
       "      <td>Norte</td>\n",
       "      <td>1</td>\n",
       "      <td>3</td>\n",
       "      <td>0.0</td>\n",
       "      <td>0.0</td>\n",
       "      <td>0.0</td>\n",
       "      <td>Em atividade</td>\n",
       "      <td>Municipal</td>\n",
       "    </tr>\n",
       "    <tr>\n",
       "      <th>3</th>\n",
       "      <td>2013</td>\n",
       "      <td>15525821</td>\n",
       "      <td>E M E F AMAZONIA</td>\n",
       "      <td>1505064</td>\n",
       "      <td>NOVO REPARTIMENTO</td>\n",
       "      <td>PA</td>\n",
       "      <td>Norte</td>\n",
       "      <td>1</td>\n",
       "      <td>3</td>\n",
       "      <td>0.0</td>\n",
       "      <td>0.0</td>\n",
       "      <td>0.0</td>\n",
       "      <td>Em atividade</td>\n",
       "      <td>Municipal</td>\n",
       "    </tr>\n",
       "    <tr>\n",
       "      <th>4</th>\n",
       "      <td>2013</td>\n",
       "      <td>15022790</td>\n",
       "      <td>E M E F AMELIA HOLANDA</td>\n",
       "      <td>1500305</td>\n",
       "      <td>AFUA</td>\n",
       "      <td>PA</td>\n",
       "      <td>Norte</td>\n",
       "      <td>1</td>\n",
       "      <td>3</td>\n",
       "      <td>0.0</td>\n",
       "      <td>0.0</td>\n",
       "      <td>0.0</td>\n",
       "      <td>Em atividade</td>\n",
       "      <td>Municipal</td>\n",
       "    </tr>\n",
       "  </tbody>\n",
       "</table>\n",
       "</div>"
      ],
      "text/plain": [
       "   anoCenso       cod                        nome  codCidade  \\\n",
       "0      2013  41036026  BAIRRO DOS MENDES E R M EF    4104402   \n",
       "1      2013  15008258           E M E F AGUA AZUL    1504802   \n",
       "2      2013  15534340            E M E F AGUA BOA    1505650   \n",
       "3      2013  15525821            E M E F AMAZONIA    1505064   \n",
       "4      2013  15022790      E M E F AMELIA HOLANDA    1500305   \n",
       "\n",
       "              cidade estado regiao  situacaoFuncionamento  \\\n",
       "0   CANDIDO DE ABREU     PR    Sul                      1   \n",
       "1       MONTE ALEGRE     PA  Norte                      1   \n",
       "2             PLACAS     PA  Norte                      1   \n",
       "3  NOVO REPARTIMENTO     PA  Norte                      1   \n",
       "4               AFUA     PA  Norte                      1   \n",
       "\n",
       "   dependenciaAdministrativa  idebAI  idebAF  enemMediaGeral  \\\n",
       "0                          3     0.0     0.0             0.0   \n",
       "1                          3     0.0     0.0             0.0   \n",
       "2                          3     0.0     0.0             0.0   \n",
       "3                          3     0.0     0.0             0.0   \n",
       "4                          3     0.0     0.0             0.0   \n",
       "\n",
       "  situacaoFuncionamentoTxt dependenciaAdministrativaTxt  \n",
       "0             Em atividade                    Municipal  \n",
       "1             Em atividade                    Municipal  \n",
       "2             Em atividade                    Municipal  \n",
       "3             Em atividade                    Municipal  \n",
       "4             Em atividade                    Municipal  "
      ]
     },
     "execution_count": 5,
     "metadata": {},
     "output_type": "execute_result"
    }
   ],
   "source": [
    "# Criando o DataFrame\n",
    "df = pd.DataFrame(resposta.json()[1])\n",
    "df.head()"
   ]
  },
  {
   "cell_type": "code",
   "execution_count": 8,
   "metadata": {},
   "outputs": [
    {
     "data": {
      "text/plain": [
       "(100, 14)"
      ]
     },
     "execution_count": 8,
     "metadata": {},
     "output_type": "execute_result"
    }
   ],
   "source": [
    "# Tamanho do DataFrame\n",
    "# df.count() \n",
    "df.shape"
   ]
  },
  {
   "cell_type": "code",
   "execution_count": 9,
   "metadata": {},
   "outputs": [
    {
     "data": {
      "text/plain": [
       "PA    99\n",
       "PR     1\n",
       "Name: estado, dtype: int64"
      ]
     },
     "execution_count": 9,
     "metadata": {},
     "output_type": "execute_result"
    }
   ],
   "source": [
    "# Quais estados estão estas escolas?\n",
    "df['estado'].value_counts()"
   ]
  }
 ],
 "metadata": {
  "kernelspec": {
   "display_name": "Python 3",
   "language": "python",
   "name": "python3"
  },
  "language_info": {
   "codemirror_mode": {
    "name": "ipython",
    "version": 3
   },
   "file_extension": ".py",
   "mimetype": "text/x-python",
   "name": "python",
   "nbconvert_exporter": "python",
   "pygments_lexer": "ipython3",
   "version": "3.8.3"
  }
 },
 "nbformat": 4,
 "nbformat_minor": 4
}
