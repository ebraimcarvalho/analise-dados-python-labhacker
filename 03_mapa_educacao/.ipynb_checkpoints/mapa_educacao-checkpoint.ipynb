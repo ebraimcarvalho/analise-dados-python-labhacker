{
 "cells": [
  {
   "cell_type": "markdown",
   "metadata": {},
   "source": [
    "## Mapa de Distorção Idade-Série Educação RS"
   ]
  },
  {
   "cell_type": "code",
   "execution_count": 2,
   "metadata": {},
   "outputs": [
    {
     "name": "stdout",
     "output_type": "stream",
     "text": [
      "Collecting folium\n",
      "  Downloading folium-0.11.0-py2.py3-none-any.whl (93 kB)\n",
      "\u001b[K     |████████████████████████████████| 93 kB 226 kB/s eta 0:00:01\n",
      "\u001b[?25hRequirement already satisfied: requests in /home/talita/anaconda3/lib/python3.8/site-packages (from folium) (2.24.0)\n",
      "Requirement already satisfied: numpy in /home/talita/anaconda3/lib/python3.8/site-packages (from folium) (1.18.5)\n",
      "Requirement already satisfied: jinja2>=2.9 in /home/talita/anaconda3/lib/python3.8/site-packages (from folium) (2.11.2)\n",
      "Collecting branca>=0.3.0\n",
      "  Downloading branca-0.4.1-py3-none-any.whl (24 kB)\n",
      "Requirement already satisfied: urllib3!=1.25.0,!=1.25.1,<1.26,>=1.21.1 in /home/talita/anaconda3/lib/python3.8/site-packages (from requests->folium) (1.25.9)\n",
      "Requirement already satisfied: idna<3,>=2.5 in /home/talita/anaconda3/lib/python3.8/site-packages (from requests->folium) (2.10)\n",
      "Requirement already satisfied: chardet<4,>=3.0.2 in /home/talita/anaconda3/lib/python3.8/site-packages (from requests->folium) (3.0.4)\n",
      "Requirement already satisfied: certifi>=2017.4.17 in /home/talita/anaconda3/lib/python3.8/site-packages (from requests->folium) (2020.6.20)\n",
      "Requirement already satisfied: MarkupSafe>=0.23 in /home/talita/anaconda3/lib/python3.8/site-packages (from jinja2>=2.9->folium) (1.1.1)\n",
      "Installing collected packages: branca, folium\n",
      "Successfully installed branca-0.4.1 folium-0.11.0\n"
     ]
    }
   ],
   "source": [
    "# o pip permite instalar novas bibliotecas\n",
    "# o ! permite a execução de linhas de comando direto pelo jupyter notebook\n",
    "!pip install folium"
   ]
  },
  {
   "cell_type": "code",
   "execution_count": 3,
   "metadata": {},
   "outputs": [],
   "source": [
    "# importando bibliotecas\n",
    "import pandas as pd\n",
    "%matplotlib inline\n",
    "import folium"
   ]
  },
  {
   "cell_type": "code",
   "execution_count": 31,
   "metadata": {},
   "outputs": [
    {
     "data": {
      "text/html": [
       "<div>\n",
       "<style scoped>\n",
       "    .dataframe tbody tr th:only-of-type {\n",
       "        vertical-align: middle;\n",
       "    }\n",
       "\n",
       "    .dataframe tbody tr th {\n",
       "        vertical-align: top;\n",
       "    }\n",
       "\n",
       "    .dataframe thead th {\n",
       "        text-align: right;\n",
       "    }\n",
       "</style>\n",
       "<table border=\"1\" class=\"dataframe\">\n",
       "  <thead>\n",
       "    <tr style=\"text-align: right;\">\n",
       "      <th></th>\n",
       "      <th>Município</th>\n",
       "      <th>ibge</th>\n",
       "      <th>latitude</th>\n",
       "      <th>longitude</th>\n",
       "      <th>/Educação/Ens...de Série/Total 2013 (-)</th>\n",
       "    </tr>\n",
       "  </thead>\n",
       "  <tbody>\n",
       "    <tr>\n",
       "      <th>0</th>\n",
       "      <td>Aceguá</td>\n",
       "      <td>4300034</td>\n",
       "      <td>-31.86076</td>\n",
       "      <td>-54.16706</td>\n",
       "      <td>25,7</td>\n",
       "    </tr>\n",
       "    <tr>\n",
       "      <th>1</th>\n",
       "      <td>Água Santa</td>\n",
       "      <td>4300059</td>\n",
       "      <td>-28.16720</td>\n",
       "      <td>-52.03100</td>\n",
       "      <td>14,7</td>\n",
       "    </tr>\n",
       "    <tr>\n",
       "      <th>2</th>\n",
       "      <td>Agudo</td>\n",
       "      <td>4300109</td>\n",
       "      <td>-29.64470</td>\n",
       "      <td>-53.25150</td>\n",
       "      <td>26,4</td>\n",
       "    </tr>\n",
       "    <tr>\n",
       "      <th>3</th>\n",
       "      <td>Ajuricaba</td>\n",
       "      <td>4300208</td>\n",
       "      <td>-28.23420</td>\n",
       "      <td>-53.77570</td>\n",
       "      <td>24,1</td>\n",
       "    </tr>\n",
       "    <tr>\n",
       "      <th>4</th>\n",
       "      <td>Alecrim</td>\n",
       "      <td>4300307</td>\n",
       "      <td>-27.65790</td>\n",
       "      <td>-54.76490</td>\n",
       "      <td>18,9</td>\n",
       "    </tr>\n",
       "  </tbody>\n",
       "</table>\n",
       "</div>"
      ],
      "text/plain": [
       "    Município     ibge  latitude  longitude  \\\n",
       "0      Aceguá  4300034 -31.86076  -54.16706   \n",
       "1  Água Santa  4300059 -28.16720  -52.03100   \n",
       "2       Agudo  4300109 -29.64470  -53.25150   \n",
       "3   Ajuricaba  4300208 -28.23420  -53.77570   \n",
       "4     Alecrim  4300307 -27.65790  -54.76490   \n",
       "\n",
       "  /Educação/Ens...de Série/Total 2013 (-)  \n",
       "0                                    25,7  \n",
       "1                                    14,7  \n",
       "2                                    26,4  \n",
       "3                                    24,1  \n",
       "4                                    18,9  "
      ]
     },
     "execution_count": 31,
     "metadata": {},
     "output_type": "execute_result"
    }
   ],
   "source": [
    "df = pd.read_csv('taxa_distorcao_idade_serie_rs.csv', skiprows=1 , encoding='latin1')\n",
    "df.head()"
   ]
  },
  {
   "cell_type": "code",
   "execution_count": 32,
   "metadata": {},
   "outputs": [
    {
     "data": {
      "text/html": [
       "<div>\n",
       "<style scoped>\n",
       "    .dataframe tbody tr th:only-of-type {\n",
       "        vertical-align: middle;\n",
       "    }\n",
       "\n",
       "    .dataframe tbody tr th {\n",
       "        vertical-align: top;\n",
       "    }\n",
       "\n",
       "    .dataframe thead th {\n",
       "        text-align: right;\n",
       "    }\n",
       "</style>\n",
       "<table border=\"1\" class=\"dataframe\">\n",
       "  <thead>\n",
       "    <tr style=\"text-align: right;\">\n",
       "      <th></th>\n",
       "      <th>Município</th>\n",
       "      <th>ibge</th>\n",
       "      <th>latitude</th>\n",
       "      <th>longitude</th>\n",
       "      <th>tx_distorcao</th>\n",
       "    </tr>\n",
       "  </thead>\n",
       "  <tbody>\n",
       "    <tr>\n",
       "      <th>0</th>\n",
       "      <td>Aceguá</td>\n",
       "      <td>4300034</td>\n",
       "      <td>-31.86076</td>\n",
       "      <td>-54.16706</td>\n",
       "      <td>25,7</td>\n",
       "    </tr>\n",
       "    <tr>\n",
       "      <th>1</th>\n",
       "      <td>Água Santa</td>\n",
       "      <td>4300059</td>\n",
       "      <td>-28.16720</td>\n",
       "      <td>-52.03100</td>\n",
       "      <td>14,7</td>\n",
       "    </tr>\n",
       "    <tr>\n",
       "      <th>2</th>\n",
       "      <td>Agudo</td>\n",
       "      <td>4300109</td>\n",
       "      <td>-29.64470</td>\n",
       "      <td>-53.25150</td>\n",
       "      <td>26,4</td>\n",
       "    </tr>\n",
       "    <tr>\n",
       "      <th>3</th>\n",
       "      <td>Ajuricaba</td>\n",
       "      <td>4300208</td>\n",
       "      <td>-28.23420</td>\n",
       "      <td>-53.77570</td>\n",
       "      <td>24,1</td>\n",
       "    </tr>\n",
       "    <tr>\n",
       "      <th>4</th>\n",
       "      <td>Alecrim</td>\n",
       "      <td>4300307</td>\n",
       "      <td>-27.65790</td>\n",
       "      <td>-54.76490</td>\n",
       "      <td>18,9</td>\n",
       "    </tr>\n",
       "  </tbody>\n",
       "</table>\n",
       "</div>"
      ],
      "text/plain": [
       "    Município     ibge  latitude  longitude tx_distorcao\n",
       "0      Aceguá  4300034 -31.86076  -54.16706         25,7\n",
       "1  Água Santa  4300059 -28.16720  -52.03100         14,7\n",
       "2       Agudo  4300109 -29.64470  -53.25150         26,4\n",
       "3   Ajuricaba  4300208 -28.23420  -53.77570         24,1\n",
       "4     Alecrim  4300307 -27.65790  -54.76490         18,9"
      ]
     },
     "execution_count": 32,
     "metadata": {},
     "output_type": "execute_result"
    }
   ],
   "source": [
    "# Renomenando a ultima coluna\n",
    "df.rename(columns={'/Educação/Ens...de Série/Total 2013 (-)': 'tx_distorcao'}, inplace=True)\n",
    "df.head()"
   ]
  },
  {
   "cell_type": "code",
   "execution_count": 33,
   "metadata": {},
   "outputs": [
    {
     "name": "stdout",
     "output_type": "stream",
     "text": [
      "<class 'pandas.core.frame.DataFrame'>\n",
      "RangeIndex: 495 entries, 0 to 494\n",
      "Data columns (total 5 columns):\n",
      " #   Column        Non-Null Count  Dtype  \n",
      "---  ------        --------------  -----  \n",
      " 0   Município     495 non-null    object \n",
      " 1   ibge          495 non-null    int64  \n",
      " 2   latitude      495 non-null    float64\n",
      " 3   longitude     495 non-null    float64\n",
      " 4   tx_distorcao  495 non-null    object \n",
      "dtypes: float64(2), int64(1), object(2)\n",
      "memory usage: 19.5+ KB\n"
     ]
    }
   ],
   "source": [
    "df.info()"
   ]
  },
  {
   "cell_type": "code",
   "execution_count": 34,
   "metadata": {},
   "outputs": [
    {
     "data": {
      "text/html": [
       "<div>\n",
       "<style scoped>\n",
       "    .dataframe tbody tr th:only-of-type {\n",
       "        vertical-align: middle;\n",
       "    }\n",
       "\n",
       "    .dataframe tbody tr th {\n",
       "        vertical-align: top;\n",
       "    }\n",
       "\n",
       "    .dataframe thead th {\n",
       "        text-align: right;\n",
       "    }\n",
       "</style>\n",
       "<table border=\"1\" class=\"dataframe\">\n",
       "  <thead>\n",
       "    <tr style=\"text-align: right;\">\n",
       "      <th></th>\n",
       "      <th>Município</th>\n",
       "      <th>ibge</th>\n",
       "      <th>latitude</th>\n",
       "      <th>longitude</th>\n",
       "      <th>tx_distorcao</th>\n",
       "    </tr>\n",
       "  </thead>\n",
       "  <tbody>\n",
       "    <tr>\n",
       "      <th>0</th>\n",
       "      <td>Aceguá</td>\n",
       "      <td>4300034</td>\n",
       "      <td>-31.86076</td>\n",
       "      <td>-54.16706</td>\n",
       "      <td>25.7</td>\n",
       "    </tr>\n",
       "    <tr>\n",
       "      <th>1</th>\n",
       "      <td>Água Santa</td>\n",
       "      <td>4300059</td>\n",
       "      <td>-28.16720</td>\n",
       "      <td>-52.03100</td>\n",
       "      <td>14.7</td>\n",
       "    </tr>\n",
       "    <tr>\n",
       "      <th>2</th>\n",
       "      <td>Agudo</td>\n",
       "      <td>4300109</td>\n",
       "      <td>-29.64470</td>\n",
       "      <td>-53.25150</td>\n",
       "      <td>26.4</td>\n",
       "    </tr>\n",
       "    <tr>\n",
       "      <th>3</th>\n",
       "      <td>Ajuricaba</td>\n",
       "      <td>4300208</td>\n",
       "      <td>-28.23420</td>\n",
       "      <td>-53.77570</td>\n",
       "      <td>24.1</td>\n",
       "    </tr>\n",
       "    <tr>\n",
       "      <th>4</th>\n",
       "      <td>Alecrim</td>\n",
       "      <td>4300307</td>\n",
       "      <td>-27.65790</td>\n",
       "      <td>-54.76490</td>\n",
       "      <td>18.9</td>\n",
       "    </tr>\n",
       "  </tbody>\n",
       "</table>\n",
       "</div>"
      ],
      "text/plain": [
       "    Município     ibge  latitude  longitude tx_distorcao\n",
       "0      Aceguá  4300034 -31.86076  -54.16706         25.7\n",
       "1  Água Santa  4300059 -28.16720  -52.03100         14.7\n",
       "2       Agudo  4300109 -29.64470  -53.25150         26.4\n",
       "3   Ajuricaba  4300208 -28.23420  -53.77570         24.1\n",
       "4     Alecrim  4300307 -27.65790  -54.76490         18.9"
      ]
     },
     "execution_count": 34,
     "metadata": {},
     "output_type": "execute_result"
    }
   ],
   "source": [
    "# transformando coluna tx_distorcao para float\n",
    "# Primeiro vamos trocar virgula por ponto\n",
    "df['tx_distorcao'] = df['tx_distorcao'].str.replace(',', '.')\n",
    "\n",
    "df.head()"
   ]
  },
  {
   "cell_type": "code",
   "execution_count": 35,
   "metadata": {},
   "outputs": [
    {
     "name": "stdout",
     "output_type": "stream",
     "text": [
      "<class 'pandas.core.frame.DataFrame'>\n",
      "RangeIndex: 495 entries, 0 to 494\n",
      "Data columns (total 5 columns):\n",
      " #   Column        Non-Null Count  Dtype  \n",
      "---  ------        --------------  -----  \n",
      " 0   Município     495 non-null    object \n",
      " 1   ibge          495 non-null    int64  \n",
      " 2   latitude      495 non-null    float64\n",
      " 3   longitude     495 non-null    float64\n",
      " 4   tx_distorcao  495 non-null    object \n",
      "dtypes: float64(2), int64(1), object(2)\n",
      "memory usage: 19.5+ KB\n"
     ]
    }
   ],
   "source": [
    "# Ainda está como object, precisamos converter para float\n",
    "df.info()"
   ]
  },
  {
   "cell_type": "code",
   "execution_count": 36,
   "metadata": {},
   "outputs": [
    {
     "name": "stdout",
     "output_type": "stream",
     "text": [
      "<class 'pandas.core.frame.DataFrame'>\n",
      "RangeIndex: 495 entries, 0 to 494\n",
      "Data columns (total 5 columns):\n",
      " #   Column        Non-Null Count  Dtype  \n",
      "---  ------        --------------  -----  \n",
      " 0   Município     495 non-null    object \n",
      " 1   ibge          495 non-null    int64  \n",
      " 2   latitude      495 non-null    float64\n",
      " 3   longitude     495 non-null    float64\n",
      " 4   tx_distorcao  495 non-null    float64\n",
      "dtypes: float64(3), int64(1), object(1)\n",
      "memory usage: 19.5+ KB\n"
     ]
    }
   ],
   "source": [
    "df['tx_distorcao'] = df['tx_distorcao'].astype(float)\n",
    "df.info()"
   ]
  },
  {
   "cell_type": "code",
   "execution_count": 37,
   "metadata": {},
   "outputs": [
    {
     "data": {
      "text/html": [
       "<div>\n",
       "<style scoped>\n",
       "    .dataframe tbody tr th:only-of-type {\n",
       "        vertical-align: middle;\n",
       "    }\n",
       "\n",
       "    .dataframe tbody tr th {\n",
       "        vertical-align: top;\n",
       "    }\n",
       "\n",
       "    .dataframe thead th {\n",
       "        text-align: right;\n",
       "    }\n",
       "</style>\n",
       "<table border=\"1\" class=\"dataframe\">\n",
       "  <thead>\n",
       "    <tr style=\"text-align: right;\">\n",
       "      <th></th>\n",
       "      <th>Município</th>\n",
       "      <th>ibge</th>\n",
       "      <th>latitude</th>\n",
       "      <th>longitude</th>\n",
       "      <th>tx_distorcao</th>\n",
       "    </tr>\n",
       "  </thead>\n",
       "  <tbody>\n",
       "    <tr>\n",
       "      <th>490</th>\n",
       "      <td>Vista Alegre do Prata</td>\n",
       "      <td>4323606</td>\n",
       "      <td>-28.8052</td>\n",
       "      <td>-51.7946</td>\n",
       "      <td>2.6</td>\n",
       "    </tr>\n",
       "    <tr>\n",
       "      <th>375</th>\n",
       "      <td>Santo Antônio do Palma</td>\n",
       "      <td>4317558</td>\n",
       "      <td>-28.4956</td>\n",
       "      <td>-52.0267</td>\n",
       "      <td>4.3</td>\n",
       "    </tr>\n",
       "    <tr>\n",
       "      <th>28</th>\n",
       "      <td>Áurea</td>\n",
       "      <td>4301552</td>\n",
       "      <td>-27.6936</td>\n",
       "      <td>-52.0505</td>\n",
       "      <td>5.8</td>\n",
       "    </tr>\n",
       "    <tr>\n",
       "      <th>268</th>\n",
       "      <td>Nicolau Vergueiro</td>\n",
       "      <td>4312674</td>\n",
       "      <td>-28.5298</td>\n",
       "      <td>-52.4676</td>\n",
       "      <td>7.0</td>\n",
       "    </tr>\n",
       "    <tr>\n",
       "      <th>128</th>\n",
       "      <td>Derrubadas</td>\n",
       "      <td>4306320</td>\n",
       "      <td>-27.2642</td>\n",
       "      <td>-53.8645</td>\n",
       "      <td>7.4</td>\n",
       "    </tr>\n",
       "    <tr>\n",
       "      <th>119</th>\n",
       "      <td>Cotiporã</td>\n",
       "      <td>4305959</td>\n",
       "      <td>-28.9891</td>\n",
       "      <td>-51.6971</td>\n",
       "      <td>7.5</td>\n",
       "    </tr>\n",
       "    <tr>\n",
       "      <th>68</th>\n",
       "      <td>Campestre da Serra</td>\n",
       "      <td>4303673</td>\n",
       "      <td>-28.7926</td>\n",
       "      <td>-51.0941</td>\n",
       "      <td>7.6</td>\n",
       "    </tr>\n",
       "    <tr>\n",
       "      <th>476</th>\n",
       "      <td>Vanini</td>\n",
       "      <td>4322558</td>\n",
       "      <td>-28.4758</td>\n",
       "      <td>-51.8447</td>\n",
       "      <td>7.8</td>\n",
       "    </tr>\n",
       "    <tr>\n",
       "      <th>236</th>\n",
       "      <td>Linha Nova</td>\n",
       "      <td>4311643</td>\n",
       "      <td>-29.4679</td>\n",
       "      <td>-51.2003</td>\n",
       "      <td>8.0</td>\n",
       "    </tr>\n",
       "    <tr>\n",
       "      <th>392</th>\n",
       "      <td>São José do Inhacorá</td>\n",
       "      <td>4318499</td>\n",
       "      <td>-27.7251</td>\n",
       "      <td>-54.1275</td>\n",
       "      <td>8.0</td>\n",
       "    </tr>\n",
       "  </tbody>\n",
       "</table>\n",
       "</div>"
      ],
      "text/plain": [
       "                  Município     ibge  latitude  longitude  tx_distorcao\n",
       "490   Vista Alegre do Prata  4323606  -28.8052   -51.7946           2.6\n",
       "375  Santo Antônio do Palma  4317558  -28.4956   -52.0267           4.3\n",
       "28                    Áurea  4301552  -27.6936   -52.0505           5.8\n",
       "268       Nicolau Vergueiro  4312674  -28.5298   -52.4676           7.0\n",
       "128              Derrubadas  4306320  -27.2642   -53.8645           7.4\n",
       "119                Cotiporã  4305959  -28.9891   -51.6971           7.5\n",
       "68       Campestre da Serra  4303673  -28.7926   -51.0941           7.6\n",
       "476                  Vanini  4322558  -28.4758   -51.8447           7.8\n",
       "236              Linha Nova  4311643  -29.4679   -51.2003           8.0\n",
       "392    São José do Inhacorá  4318499  -27.7251   -54.1275           8.0"
      ]
     },
     "execution_count": 37,
     "metadata": {},
     "output_type": "execute_result"
    }
   ],
   "source": [
    "# Mostrando os 10 municipios com menor taxa de distorção\n",
    "df.nsmallest(10, 'tx_distorcao')"
   ]
  },
  {
   "cell_type": "code",
   "execution_count": 38,
   "metadata": {},
   "outputs": [
    {
     "data": {
      "text/html": [
       "<div>\n",
       "<style scoped>\n",
       "    .dataframe tbody tr th:only-of-type {\n",
       "        vertical-align: middle;\n",
       "    }\n",
       "\n",
       "    .dataframe tbody tr th {\n",
       "        vertical-align: top;\n",
       "    }\n",
       "\n",
       "    .dataframe thead th {\n",
       "        text-align: right;\n",
       "    }\n",
       "</style>\n",
       "<table border=\"1\" class=\"dataframe\">\n",
       "  <thead>\n",
       "    <tr style=\"text-align: right;\">\n",
       "      <th></th>\n",
       "      <th>Município</th>\n",
       "      <th>ibge</th>\n",
       "      <th>latitude</th>\n",
       "      <th>longitude</th>\n",
       "      <th>tx_distorcao</th>\n",
       "    </tr>\n",
       "  </thead>\n",
       "  <tbody>\n",
       "    <tr>\n",
       "      <th>307</th>\n",
       "      <td>Pedras Altas</td>\n",
       "      <td>4314175</td>\n",
       "      <td>-31.7217</td>\n",
       "      <td>-53.5838</td>\n",
       "      <td>56.0</td>\n",
       "    </tr>\n",
       "    <tr>\n",
       "      <th>316</th>\n",
       "      <td>Pinheiro Machado</td>\n",
       "      <td>4314506</td>\n",
       "      <td>-31.5794</td>\n",
       "      <td>-53.3798</td>\n",
       "      <td>53.9</td>\n",
       "    </tr>\n",
       "    <tr>\n",
       "      <th>17</th>\n",
       "      <td>Arambaré</td>\n",
       "      <td>4300851</td>\n",
       "      <td>-30.9093</td>\n",
       "      <td>-51.5046</td>\n",
       "      <td>52.8</td>\n",
       "    </tr>\n",
       "    <tr>\n",
       "      <th>140</th>\n",
       "      <td>Eldorado do Sul</td>\n",
       "      <td>4306767</td>\n",
       "      <td>-30.0847</td>\n",
       "      <td>-51.6187</td>\n",
       "      <td>51.9</td>\n",
       "    </tr>\n",
       "    <tr>\n",
       "      <th>35</th>\n",
       "      <td>Barra do Quaraí</td>\n",
       "      <td>4301875</td>\n",
       "      <td>-30.2029</td>\n",
       "      <td>-57.5497</td>\n",
       "      <td>51.5</td>\n",
       "    </tr>\n",
       "    <tr>\n",
       "      <th>393</th>\n",
       "      <td>São José do Norte</td>\n",
       "      <td>4318507</td>\n",
       "      <td>-32.0151</td>\n",
       "      <td>-52.0331</td>\n",
       "      <td>49.4</td>\n",
       "    </tr>\n",
       "    <tr>\n",
       "      <th>413</th>\n",
       "      <td>São Valério do Sul</td>\n",
       "      <td>4319737</td>\n",
       "      <td>-27.7906</td>\n",
       "      <td>-53.9368</td>\n",
       "      <td>49.2</td>\n",
       "    </tr>\n",
       "    <tr>\n",
       "      <th>193</th>\n",
       "      <td>Hulha Negra</td>\n",
       "      <td>4309654</td>\n",
       "      <td>-31.4067</td>\n",
       "      <td>-53.8667</td>\n",
       "      <td>49.0</td>\n",
       "    </tr>\n",
       "    <tr>\n",
       "      <th>106</th>\n",
       "      <td>Chuí</td>\n",
       "      <td>4305439</td>\n",
       "      <td>-33.6866</td>\n",
       "      <td>-53.4594</td>\n",
       "      <td>48.6</td>\n",
       "    </tr>\n",
       "    <tr>\n",
       "      <th>233</th>\n",
       "      <td>Lavras do Sul</td>\n",
       "      <td>4311502</td>\n",
       "      <td>-30.8071</td>\n",
       "      <td>-53.8931</td>\n",
       "      <td>47.7</td>\n",
       "    </tr>\n",
       "  </tbody>\n",
       "</table>\n",
       "</div>"
      ],
      "text/plain": [
       "              Município     ibge  latitude  longitude  tx_distorcao\n",
       "307        Pedras Altas  4314175  -31.7217   -53.5838          56.0\n",
       "316    Pinheiro Machado  4314506  -31.5794   -53.3798          53.9\n",
       "17             Arambaré  4300851  -30.9093   -51.5046          52.8\n",
       "140     Eldorado do Sul  4306767  -30.0847   -51.6187          51.9\n",
       "35      Barra do Quaraí  4301875  -30.2029   -57.5497          51.5\n",
       "393   São José do Norte  4318507  -32.0151   -52.0331          49.4\n",
       "413  São Valério do Sul  4319737  -27.7906   -53.9368          49.2\n",
       "193         Hulha Negra  4309654  -31.4067   -53.8667          49.0\n",
       "106                Chuí  4305439  -33.6866   -53.4594          48.6\n",
       "233       Lavras do Sul  4311502  -30.8071   -53.8931          47.7"
      ]
     },
     "execution_count": 38,
     "metadata": {},
     "output_type": "execute_result"
    }
   ],
   "source": [
    "# Mostrando 10 municipios com maior taxa de distorção\n",
    "df.nlargest(10, 'tx_distorcao')"
   ]
  },
  {
   "cell_type": "code",
   "execution_count": 40,
   "metadata": {},
   "outputs": [
    {
     "data": {
      "text/plain": [
       "<matplotlib.axes._subplots.AxesSubplot at 0x7f471e9490d0>"
      ]
     },
     "execution_count": 40,
     "metadata": {},
     "output_type": "execute_result"
    },
    {
     "data": {
      "image/png": "[encoded data removed]",
      "text/plain": [
       "<Figure size 432x288 with 1 Axes>"
      ]
     },
     "metadata": {
      "needs_background": "light"
     },
     "output_type": "display_data"
    }
   ],
   "source": [
    "# Plotando um histograma dos dados\n",
    "df['tx_distorcao'].plot.hist(bins=100)"
   ]
  },
  {
   "cell_type": "code",
   "execution_count": 45,
   "metadata": {},
   "outputs": [
    {
     "data": {
      "text/plain": [
       "Município       17\n",
       "ibge            17\n",
       "latitude        17\n",
       "longitude       17\n",
       "tx_distorcao    17\n",
       "dtype: int64"
      ]
     },
     "execution_count": 45,
     "metadata": {},
     "output_type": "execute_result"
    }
   ],
   "source": [
    "# Quantos munucipios estao abaixo de 10\n",
    "df[df['tx_distorcao'] <= 10].count()"
   ]
  },
  {
   "cell_type": "code",
   "execution_count": 47,
   "metadata": {},
   "outputs": [
    {
     "data": {
      "text/plain": [
       "Município       17\n",
       "ibge            17\n",
       "latitude        17\n",
       "longitude       17\n",
       "tx_distorcao    17\n",
       "dtype: int64"
      ]
     },
     "execution_count": 47,
     "metadata": {},
     "output_type": "execute_result"
    }
   ],
   "source": [
    "# Quantos municipios estão acima de 45\n",
    "df[df['tx_distorcao'] >= 45].count()"
   ]
  },
  {
   "cell_type": "code",
   "execution_count": 80,
   "metadata": {
    "scrolled": true
   },
   "outputs": [
    {
     "data": {
      "text/html": [
       "<div style=\"width:100%;\"><div style=\"position:relative;width:100%;height:0;padding-bottom:60%;\"><span style=\"color:#565656\">Make this Notebook Trusted to load map: File -> Trust Notebook</span><iframe src=\"about:blank\" style=\"position:absolute;width:100%;height:100%;left:0;top:0;border:none !important;\" data-html=PCFET0NUWVBFIGh0bWw+CjxoZWFkPiAgICAKICAgIDxtZXRhIGh0dHAtZXF1aXY9ImNvbnRlbnQtdHlwZSIgY29udGVudD0idGV4dC9odG1sOyBjaGFyc2V0PVVURi04IiAvPgogICAgCiAgICAgICAgPHNjcmlwdD4KICAgICAgICAgICAgTF9OT19UT1VDSCA9IGZhbHNlOwogICAgICAgICAgICBMX0RJU0FCTEVfM0QgPSBmYWxzZTsKICAgICAgICA8L3NjcmlwdD4KICAgIAogICAgPHNjcmlwdCBzcmM9Imh0dHBzOi8vY2RuLmpzZGVsaXZyLm5ldC9ucG0vbGVhZmxldEAxLjYuMC9kaXN0L2xlYWZsZXQuanMiPjwvc2NyaXB0PgogICAgPHNjcmlwdCBzcmM9Imh0dHBzOi8vY29kZS5qcXVlcnkuY29tL2pxdWVyeS0xLjEyLjQubWluLmpzIj48L3NjcmlwdD4KICAgIDxzY3JpcHQgc3JjPSJodHRwczovL21heGNkbi5ib290c3RyYXBjZG4uY29tL2Jvb3RzdHJhcC8zLjIuMC9qcy9ib290c3RyYXAubWluLmpzIj48L3NjcmlwdD4KICAgIDxzY3JpcHQgc3JjPSJodHRwczovL2NkbmpzLmNsb3VkZmxhcmUuY29tL2FqYXgvbGlicy9MZWFmbGV0LmF3ZXNvbWUtbWFya2Vycy8yLjAuMi9sZWFmbGV0LmF3ZXNvbWUtbWFya2Vycy5qcyI+PC9zY3JpcHQ+CiAgICA8bGluayByZWw9InN0eWxlc2hlZXQiIGhyZWY9Imh0dHBzOi8vY2RuLmpzZGVsaXZyLm5ldC9ucG0vbGVhZmxldEAxLjYuMC9kaXN0L2xlYWZsZXQuY3NzIi8+CiAgICA8bGluayByZWw9InN0eWxlc2hlZXQiIGhyZWY9Imh0dHBzOi8vbWF4Y2RuLmJvb3RzdHJhcGNkbi5jb20vYm9vdHN0cmFwLzMuMi4wL2Nzcy9ib290c3RyYXAubWluLmNzcyIvPgogICAgPGxpbmsgcmVsPSJzdHlsZXNoZWV0IiBocmVmPSJodHRwczovL21heGNkbi5ib290c3RyYXBjZG4uY29tL2Jvb3RzdHJhcC8zLjIuMC9jc3MvYm9vdHN0cmFwLXRoZW1lLm1pbi5jc3MiLz4KICAgIDxsaW5rIHJlbD0ic3R5bGVzaGVldCIgaHJlZj0iaHR0cHM6Ly9tYXhjZG4uYm9vdHN0cmFwY2RuLmNvbS9mb250LWF3ZXNvbWUvNC42LjMvY3NzL2ZvbnQtYXdlc29tZS5taW4uY3NzIi8+CiAgICA8bGluayByZWw9InN0eWxlc2hlZXQiIGhyZWY9Imh0dHBzOi8vY2RuanMuY2xvdWRmbGFyZS5jb20vYWpheC9saWJzL0xlYWZsZXQuYXdlc29tZS1tYXJrZXJzLzIuMC4yL2xlYWZsZXQuYXdlc29tZS1tYXJrZXJzLmNzcyIvPgogICAgPGxpbmsgcmVsPSJzdHlsZXNoZWV0IiBocmVmPSJodHRwczovL3Jhd2Nkbi5naXRoYWNrLmNvbS9weXRob24tdmlzdWFsaXphdGlvbi9mb2xpdW0vbWFzdGVyL2ZvbGl1bS90ZW1wbGF0ZXMvbGVhZmxldC5hd2Vzb21lLnJvdGF0ZS5jc3MiLz4KICAgIDxzdHlsZT5odG1sLCBib2R5IHt3aWR0aDogMTAwJTtoZWlnaHQ6IDEwMCU7bWFyZ2luOiAwO3BhZGRpbmc6IDA7fTwvc3R5bGU+CiAgICA8c3R5bGU+I21hcCB7cG9zaXRpb246YWJzb2x1dGU7dG9wOjA7Ym90dG9tOjA7cmlnaHQ6MDtsZWZ0OjA7fTwvc3R5bGU+CiAgICAKICAgICAgICAgICAgPG1ldGEgbmFtZT0idmlld3BvcnQiIGNvbnRlbnQ9IndpZHRoPWRldmljZS13aWR0aCwKICAgICAgICAgICAgICAgIGluaXRpYWwtc2NhbGU9MS4wLCBtYXhpbXVtLXNjYWxlPTEuMCwgdXNlci1zY2FsYWJsZT1ubyIgLz4KICAgICAgICAgICAgPHN0eWxlPgogICAgICAgICAgICAgICAgI21hcF82NDFkZGU5ODJiYTA0NTlkYTRjYWI5OTM0NWIwZDE4YyB7CiAgICAgICAgICAgICAgICAgICAgcG9zaXRpb246IHJlbGF0aXZlOwogICAgICAgICAgICAgICAgICAgIHdpZHRoOiAxMDAuMCU7CiAgICAgICAgICAgICAgICAgICAgaGVpZ2h0OiAxMDAuMCU7CiAgICAgICAgICAgICAgICAgICAgbGVmdDogMC4wJTsKICAgICAgICAgICAgICAgICAgICB0b3A6IDAuMCU7CiAgICAgICAgICAgICAgICB9CiAgICAgICAgICAgIDwvc3R5bGU+CiAgICAgICAgCjwvaGVhZD4KPGJvZHk+ICAgIAogICAgCiAgICAgICAgICAgIDxkaXYgY2xhc3M9ImZvbGl1bS1tYXAiIGlkPSJtYXBfNjQxZGRlOTgyYmEwNDU5ZGE0Y2FiOTkzNDViMGQxOGMiID48L2Rpdj4KICAgICAgICAKPC9ib2R5Pgo8c2NyaXB0PiAgICAKICAgIAogICAgICAgICAgICB2YXIgbWFwXzY0MWRkZTk4MmJhMDQ1OWRhNGNhYjk5MzQ1YjBkMThjID0gTC5tYXAoCiAgICAgICAgICAgICAgICAibWFwXzY0MWRkZTk4MmJhMDQ1OWRhNGNhYjk5MzQ1YjBkMThjIiwKICAgICAgICAgICAgICAgIHsKICAgICAgICAgICAgICAgICAgICBjZW50ZXI6IFstMjEuMjM1LCAtNTEuOTI1M10sCiAgICAgICAgICAgICAgICAgICAgY3JzOiBMLkNSUy5FUFNHMzg1NywKICAgICAgICAgICAgICAgICAgICB6b29tOiA0LAogICAgICAgICAgICAgICAgICAgIHpvb21Db250cm9sOiB0cnVlLAogICAgICAgICAgICAgICAgICAgIHByZWZlckNhbnZhczogZmFsc2UsCiAgICAgICAgICAgICAgICB9CiAgICAgICAgICAgICk7CgogICAgICAgICAgICAKCiAgICAgICAgCiAgICAKICAgICAgICAgICAgdmFyIHRpbGVfbGF5ZXJfZmU0Zjc3Y2VlNjc5NDQ2Y2EyMGE4MGJhODFmMDZmMmQgPSBMLnRpbGVMYXllcigKICAgICAgICAgICAgICAgICJodHRwczovL3tzfS50aWxlLm9wZW5zdHJlZXRtYXAub3JnL3t6fS97eH0ve3l9LnBuZyIsCiAgICAgICAgICAgICAgICB7ImF0dHJpYnV0aW9uIjogIkRhdGEgYnkgXHUwMDI2Y29weTsgXHUwMDNjYSBocmVmPVwiaHR0cDovL29wZW5zdHJlZXRtYXAub3JnXCJcdTAwM2VPcGVuU3RyZWV0TWFwXHUwMDNjL2FcdTAwM2UsIHVuZGVyIFx1MDAzY2EgaHJlZj1cImh0dHA6Ly93d3cub3BlbnN0cmVldG1hcC5vcmcvY29weXJpZ2h0XCJcdTAwM2VPRGJMXHUwMDNjL2FcdTAwM2UuIiwgImRldGVjdFJldGluYSI6IGZhbHNlLCAibWF4TmF0aXZlWm9vbSI6IDE4LCAibWF4Wm9vbSI6IDE4LCAibWluWm9vbSI6IDAsICJub1dyYXAiOiBmYWxzZSwgIm9wYWNpdHkiOiAxLCAic3ViZG9tYWlucyI6ICJhYmMiLCAidG1zIjogZmFsc2V9CiAgICAgICAgICAgICkuYWRkVG8obWFwXzY0MWRkZTk4MmJhMDQ1OWRhNGNhYjk5MzQ1YjBkMThjKTsKICAgICAgICAKPC9zY3JpcHQ+ onload=\"this.contentDocument.open();this.contentDocument.write(atob(this.getAttribute('data-html')));this.contentDocument.close();\" allowfullscreen webkitallowfullscreen mozallowfullscreen></iframe></div></div>"
      ],
      "text/plain": [
       "<folium.folium.Map at 0x7f471ea92d90>"
      ]
     },
     "execution_count": 80,
     "metadata": {},
     "output_type": "execute_result"
    }
   ],
   "source": [
    "# Aprendendo como usar o folium\n",
    "brasil = folium.Map(\n",
    "    location=[-21.2350, -51.9253],\n",
    "    zoom_start=4\n",
    ")\n",
    "brasil"
   ]
  },
  {
   "cell_type": "code",
   "execution_count": 85,
   "metadata": {},
   "outputs": [
    {
     "data": {
      "text/html": [
       "<div style=\"width:100%;\"><div style=\"position:relative;width:100%;height:0;padding-bottom:60%;\"><span style=\"color:#565656\">Make this Notebook Trusted to load map: File -> Trust Notebook</span><iframe src=\"about:blank\" style=\"position:absolute;width:100%;height:100%;left:0;top:0;border:none !important;\" data-html=PCFET0NUWVBFIGh0bWw+CjxoZWFkPiAgICAKICAgIDxtZXRhIGh0dHAtZXF1aXY9ImNvbnRlbnQtdHlwZSIgY29udGVudD0idGV4dC9odG1sOyBjaGFyc2V0PVVURi04IiAvPgogICAgCiAgICAgICAgPHNjcmlwdD4KICAgICAgICAgICAgTF9OT19UT1VDSCA9IGZhbHNlOwogICAgICAgICAgICBMX0RJU0FCTEVfM0QgPSBmYWxzZTsKICAgICAgICA8L3NjcmlwdD4KICAgIAogICAgPHNjcmlwdCBzcmM9Imh0dHBzOi8vY2RuLmpzZGVsaXZyLm5ldC9ucG0vbGVhZmxldEAxLjYuMC9kaXN0L2xlYWZsZXQuanMiPjwvc2NyaXB0PgogICAgPHNjcmlwdCBzcmM9Imh0dHBzOi8vY29kZS5qcXVlcnkuY29tL2pxdWVyeS0xLjEyLjQubWluLmpzIj48L3NjcmlwdD4KICAgIDxzY3JpcHQgc3JjPSJodHRwczovL21heGNkbi5ib290c3RyYXBjZG4uY29tL2Jvb3RzdHJhcC8zLjIuMC9qcy9ib290c3RyYXAubWluLmpzIj48L3NjcmlwdD4KICAgIDxzY3JpcHQgc3JjPSJodHRwczovL2NkbmpzLmNsb3VkZmxhcmUuY29tL2FqYXgvbGlicy9MZWFmbGV0LmF3ZXNvbWUtbWFya2Vycy8yLjAuMi9sZWFmbGV0LmF3ZXNvbWUtbWFya2Vycy5qcyI+PC9zY3JpcHQ+CiAgICA8bGluayByZWw9InN0eWxlc2hlZXQiIGhyZWY9Imh0dHBzOi8vY2RuLmpzZGVsaXZyLm5ldC9ucG0vbGVhZmxldEAxLjYuMC9kaXN0L2xlYWZsZXQuY3NzIi8+CiAgICA8bGluayByZWw9InN0eWxlc2hlZXQiIGhyZWY9Imh0dHBzOi8vbWF4Y2RuLmJvb3RzdHJhcGNkbi5jb20vYm9vdHN0cmFwLzMuMi4wL2Nzcy9ib290c3RyYXAubWluLmNzcyIvPgogICAgPGxpbmsgcmVsPSJzdHlsZXNoZWV0IiBocmVmPSJodHRwczovL21heGNkbi5ib290c3RyYXBjZG4uY29tL2Jvb3RzdHJhcC8zLjIuMC9jc3MvYm9vdHN0cmFwLXRoZW1lLm1pbi5jc3MiLz4KICAgIDxsaW5rIHJlbD0ic3R5bGVzaGVldCIgaHJlZj0iaHR0cHM6Ly9tYXhjZG4uYm9vdHN0cmFwY2RuLmNvbS9mb250LWF3ZXNvbWUvNC42LjMvY3NzL2ZvbnQtYXdlc29tZS5taW4uY3NzIi8+CiAgICA8bGluayByZWw9InN0eWxlc2hlZXQiIGhyZWY9Imh0dHBzOi8vY2RuanMuY2xvdWRmbGFyZS5jb20vYWpheC9saWJzL0xlYWZsZXQuYXdlc29tZS1tYXJrZXJzLzIuMC4yL2xlYWZsZXQuYXdlc29tZS1tYXJrZXJzLmNzcyIvPgogICAgPGxpbmsgcmVsPSJzdHlsZXNoZWV0IiBocmVmPSJodHRwczovL3Jhd2Nkbi5naXRoYWNrLmNvbS9weXRob24tdmlzdWFsaXphdGlvbi9mb2xpdW0vbWFzdGVyL2ZvbGl1bS90ZW1wbGF0ZXMvbGVhZmxldC5hd2Vzb21lLnJvdGF0ZS5jc3MiLz4KICAgIDxzdHlsZT5odG1sLCBib2R5IHt3aWR0aDogMTAwJTtoZWlnaHQ6IDEwMCU7bWFyZ2luOiAwO3BhZGRpbmc6IDA7fTwvc3R5bGU+CiAgICA8c3R5bGU+I21hcCB7cG9zaXRpb246YWJzb2x1dGU7dG9wOjA7Ym90dG9tOjA7cmlnaHQ6MDtsZWZ0OjA7fTwvc3R5bGU+CiAgICAKICAgICAgICAgICAgPG1ldGEgbmFtZT0idmlld3BvcnQiIGNvbnRlbnQ9IndpZHRoPWRldmljZS13aWR0aCwKICAgICAgICAgICAgICAgIGluaXRpYWwtc2NhbGU9MS4wLCBtYXhpbXVtLXNjYWxlPTEuMCwgdXNlci1zY2FsYWJsZT1ubyIgLz4KICAgICAgICAgICAgPHN0eWxlPgogICAgICAgICAgICAgICAgI21hcF9lOTIzNzRkNDk2ZmY0MTY1YTI3Yzg3MTIxOGVjYWFkZiB7CiAgICAgICAgICAgICAgICAgICAgcG9zaXRpb246IHJlbGF0aXZlOwogICAgICAgICAgICAgICAgICAgIHdpZHRoOiAxMDAuMCU7CiAgICAgICAgICAgICAgICAgICAgaGVpZ2h0OiAxMDAuMCU7CiAgICAgICAgICAgICAgICAgICAgbGVmdDogMC4wJTsKICAgICAgICAgICAgICAgICAgICB0b3A6IDAuMCU7CiAgICAgICAgICAgICAgICB9CiAgICAgICAgICAgIDwvc3R5bGU+CiAgICAgICAgCjwvaGVhZD4KPGJvZHk+ICAgIAogICAgCiAgICAgICAgICAgIDxkaXYgY2xhc3M9ImZvbGl1bS1tYXAiIGlkPSJtYXBfZTkyMzc0ZDQ5NmZmNDE2NWEyN2M4NzEyMThlY2FhZGYiID48L2Rpdj4KICAgICAgICAKPC9ib2R5Pgo8c2NyaXB0PiAgICAKICAgIAogICAgICAgICAgICB2YXIgbWFwX2U5MjM3NGQ0OTZmZjQxNjVhMjdjODcxMjE4ZWNhYWRmID0gTC5tYXAoCiAgICAgICAgICAgICAgICAibWFwX2U5MjM3NGQ0OTZmZjQxNjVhMjdjODcxMjE4ZWNhYWRmIiwKICAgICAgICAgICAgICAgIHsKICAgICAgICAgICAgICAgICAgICBjZW50ZXI6IFstMzAuMDM5NSwgLTUyLjEwMTRdLAogICAgICAgICAgICAgICAgICAgIGNyczogTC5DUlMuRVBTRzM4NTcsCiAgICAgICAgICAgICAgICAgICAgem9vbTogNiwKICAgICAgICAgICAgICAgICAgICB6b29tQ29udHJvbDogdHJ1ZSwKICAgICAgICAgICAgICAgICAgICBwcmVmZXJDYW52YXM6IGZhbHNlLAogICAgICAgICAgICAgICAgfQogICAgICAgICAgICApOwoKICAgICAgICAgICAgCgogICAgICAgIAogICAgCiAgICAgICAgICAgIHZhciB0aWxlX2xheWVyXzUzMGQwZjlkODdkNDRiMTk4MzFlNWUzMTNiNzNhNTcyID0gTC50aWxlTGF5ZXIoCiAgICAgICAgICAgICAgICAiaHR0cHM6Ly97c30udGlsZS5vcGVuc3RyZWV0bWFwLm9yZy97en0ve3h9L3t5fS5wbmciLAogICAgICAgICAgICAgICAgeyJhdHRyaWJ1dGlvbiI6ICJEYXRhIGJ5IFx1MDAyNmNvcHk7IFx1MDAzY2EgaHJlZj1cImh0dHA6Ly9vcGVuc3RyZWV0bWFwLm9yZ1wiXHUwMDNlT3BlblN0cmVldE1hcFx1MDAzYy9hXHUwMDNlLCB1bmRlciBcdTAwM2NhIGhyZWY9XCJodHRwOi8vd3d3Lm9wZW5zdHJlZXRtYXAub3JnL2NvcHlyaWdodFwiXHUwMDNlT0RiTFx1MDAzYy9hXHUwMDNlLiIsICJkZXRlY3RSZXRpbmEiOiBmYWxzZSwgIm1heE5hdGl2ZVpvb20iOiAxOCwgIm1heFpvb20iOiAxOCwgIm1pblpvb20iOiAwLCAibm9XcmFwIjogZmFsc2UsICJvcGFjaXR5IjogMSwgInN1YmRvbWFpbnMiOiAiYWJjIiwgInRtcyI6IGZhbHNlfQogICAgICAgICAgICApLmFkZFRvKG1hcF9lOTIzNzRkNDk2ZmY0MTY1YTI3Yzg3MTIxOGVjYWFkZik7CiAgICAgICAgCjwvc2NyaXB0Pg== onload=\"this.contentDocument.open();this.contentDocument.write(atob(this.getAttribute('data-html')));this.contentDocument.close();\" allowfullscreen webkitallowfullscreen mozallowfullscreen></iframe></div></div>"
      ],
      "text/plain": [
       "<folium.folium.Map at 0x7f471defe130>"
      ]
     },
     "execution_count": 85,
     "metadata": {},
     "output_type": "execute_result"
    }
   ],
   "source": [
    "# Cria mapa do Rio Grande do Sul\n",
    "rs = folium.Map(\n",
    "    location=[-30.0395, -52.1014], #Latitude e Longitude do local\n",
    "    zoom_start=6\n",
    ")\n",
    "rs"
   ]
  },
  {
   "cell_type": "code",
   "execution_count": 90,
   "metadata": {},
   "outputs": [
    {
     "data": {
      "text/html": [
       "<div style=\"width:100%;\"><div style=\"position:relative;width:100%;height:0;padding-bottom:60%;\"><span style=\"color:#565656\">Make this Notebook Trusted to load map: File -> Trust Notebook</span><iframe src=\"about:blank\" style=\"position:absolute;width:100%;height:100%;left:0;top:0;border:none !important;\" data-html=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 onload=\"this.contentDocument.open();this.contentDocument.write(atob(this.getAttribute('data-html')));this.contentDocument.close();\" allowfullscreen webkitallowfullscreen mozallowfullscreen></iframe></div></div>"
      ],
      "text/plain": [
       "<folium.folium.Map at 0x7f471defe130>"
      ]
     },
     "execution_count": 90,
     "metadata": {},
     "output_type": "execute_result"
    }
   ],
   "source": [
    "# Percorrer o dataframe com base nas melhores escolas (tx_distorcao <= 10) e desenhar um marcador para cada escola\n",
    "# usando for e interrows\n",
    "\n",
    "for indice, municipio in df[df['tx_distorcao'] <= 10].iterrows():\n",
    "    folium.Marker(\n",
    "        location=[municipio['latitude'], municipio['longitude']],\n",
    "        popup=municipio['Município'],\n",
    "        icon=folium.map.Icon(color='green')\n",
    "    ).add_to(rs)\n",
    "    \n",
    "rs"
   ]
  },
  {
   "cell_type": "code",
   "execution_count": 91,
   "metadata": {
    "scrolled": true
   },
   "outputs": [
    {
     "data": {
      "text/html": [
       "<div style=\"width:100%;\"><div style=\"position:relative;width:100%;height:0;padding-bottom:60%;\"><span style=\"color:#565656\">Make this Notebook Trusted to load map: File -> Trust Notebook</span><iframe src=\"about:blank\" style=\"position:absolute;width:100%;height:100%;left:0;top:0;border:none !important;\" data-html=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 onload=\"this.contentDocument.open();this.contentDocument.write(atob(this.getAttribute('data-html')));this.contentDocument.close();\" allowfullscreen webkitallowfullscreen mozallowfullscreen></iframe></div></div>"
      ],
      "text/plain": [
       "<folium.folium.Map at 0x7f471defe130>"
      ]
     },
     "execution_count": 91,
     "metadata": {},
     "output_type": "execute_result"
    }
   ],
   "source": [
    "# Plota no mapa as escolas com piores resultados de taxa de distorção >= 45\n",
    "for indice, municipio in df[df['tx_distorcao'] >= 45].iterrows():\n",
    "    folium.Marker(\n",
    "        location=[municipio['latitude'], municipio['longitude']],\n",
    "        popup=municipio['Município'],\n",
    "        icon=folium.map.Icon(color='red')\n",
    "    ).add_to(rs)\n",
    "\n",
    "rs"
   ]
  },
  {
   "cell_type": "code",
   "execution_count": 93,
   "metadata": {},
   "outputs": [
    {
     "data": {
      "text/plain": [
       "325    32.3\n",
       "Name: tx_distorcao, dtype: float64"
      ]
     },
     "execution_count": 93,
     "metadata": {},
     "output_type": "execute_result"
    }
   ],
   "source": [
    "# Porto Alegre não apareceu, qual a taxa de distorção de PA?\n",
    "df[df['Município'] == 'Porto Alegre']['tx_distorcao']"
   ]
  }
 ],
 "metadata": {
  "kernelspec": {
   "display_name": "Python 3",
   "language": "python",
   "name": "python3"
  },
  "language_info": {
   "codemirror_mode": {
    "name": "ipython",
    "version": 3
   },
   "file_extension": ".py",
   "mimetype": "text/x-python",
   "name": "python",
   "nbconvert_exporter": "python",
   "pygments_lexer": "ipython3",
   "version": "3.8.3"
  }
 },
 "nbformat": 4,
 "nbformat_minor": 4
}
