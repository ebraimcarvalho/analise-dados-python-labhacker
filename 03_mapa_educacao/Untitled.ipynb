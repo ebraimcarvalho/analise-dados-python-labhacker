{
 "cells": [
  {
   "cell_type": "markdown",
   "metadata": {},
   "source": [
    "## Mapa de Distorção Idade-Série Educação RS"
   ]
  },
  {
   "cell_type": "code",
   "execution_count": 2,
   "metadata": {},
   "outputs": [
    {
     "name": "stdout",
     "output_type": "stream",
     "text": [
      "Collecting folium\n",
      "  Downloading folium-0.11.0-py2.py3-none-any.whl (93 kB)\n",
      "\u001b[K     |████████████████████████████████| 93 kB 226 kB/s eta 0:00:01\n",
      "\u001b[?25hRequirement already satisfied: requests in /home/talita/anaconda3/lib/python3.8/site-packages (from folium) (2.24.0)\n",
      "Requirement already satisfied: numpy in /home/talita/anaconda3/lib/python3.8/site-packages (from folium) (1.18.5)\n",
      "Requirement already satisfied: jinja2>=2.9 in /home/talita/anaconda3/lib/python3.8/site-packages (from folium) (2.11.2)\n",
      "Collecting branca>=0.3.0\n",
      "  Downloading branca-0.4.1-py3-none-any.whl (24 kB)\n",
      "Requirement already satisfied: urllib3!=1.25.0,!=1.25.1,<1.26,>=1.21.1 in /home/talita/anaconda3/lib/python3.8/site-packages (from requests->folium) (1.25.9)\n",
      "Requirement already satisfied: idna<3,>=2.5 in /home/talita/anaconda3/lib/python3.8/site-packages (from requests->folium) (2.10)\n",
      "Requirement already satisfied: chardet<4,>=3.0.2 in /home/talita/anaconda3/lib/python3.8/site-packages (from requests->folium) (3.0.4)\n",
      "Requirement already satisfied: certifi>=2017.4.17 in /home/talita/anaconda3/lib/python3.8/site-packages (from requests->folium) (2020.6.20)\n",
      "Requirement already satisfied: MarkupSafe>=0.23 in /home/talita/anaconda3/lib/python3.8/site-packages (from jinja2>=2.9->folium) (1.1.1)\n",
      "Installing collected packages: branca, folium\n",
      "Successfully installed branca-0.4.1 folium-0.11.0\n"
     ]
    }
   ],
   "source": [
    "# o pip permite instalar novas bibliotecas\n",
    "# o ! permite a execução de linhas de comando direto pelo jupyter notebook\n",
    "!pip install folium"
   ]
  },
  {
   "cell_type": "code",
   "execution_count": 3,
   "metadata": {},
   "outputs": [],
   "source": [
    "# importando bibliotecas\n",
    "import pandas as pd\n",
    "%matplotlib inline\n",
    "import folium"
   ]
  },
  {
   "cell_type": "code",
   "execution_count": 31,
   "metadata": {},
   "outputs": [
    {
     "data": {
      "text/html": [
       "<div>\n",
       "<style scoped>\n",
       "    .dataframe tbody tr th:only-of-type {\n",
       "        vertical-align: middle;\n",
       "    }\n",
       "\n",
       "    .dataframe tbody tr th {\n",
       "        vertical-align: top;\n",
       "    }\n",
       "\n",
       "    .dataframe thead th {\n",
       "        text-align: right;\n",
       "    }\n",
       "</style>\n",
       "<table border=\"1\" class=\"dataframe\">\n",
       "  <thead>\n",
       "    <tr style=\"text-align: right;\">\n",
       "      <th></th>\n",
       "      <th>Município</th>\n",
       "      <th>ibge</th>\n",
       "      <th>latitude</th>\n",
       "      <th>longitude</th>\n",
       "      <th>/Educação/Ens...de Série/Total 2013 (-)</th>\n",
       "    </tr>\n",
       "  </thead>\n",
       "  <tbody>\n",
       "    <tr>\n",
       "      <th>0</th>\n",
       "      <td>Aceguá</td>\n",
       "      <td>4300034</td>\n",
       "      <td>-31.86076</td>\n",
       "      <td>-54.16706</td>\n",
       "      <td>25,7</td>\n",
       "    </tr>\n",
       "    <tr>\n",
       "      <th>1</th>\n",
       "      <td>Água Santa</td>\n",
       "      <td>4300059</td>\n",
       "      <td>-28.16720</td>\n",
       "      <td>-52.03100</td>\n",
       "      <td>14,7</td>\n",
       "    </tr>\n",
       "    <tr>\n",
       "      <th>2</th>\n",
       "      <td>Agudo</td>\n",
       "      <td>4300109</td>\n",
       "      <td>-29.64470</td>\n",
       "      <td>-53.25150</td>\n",
       "      <td>26,4</td>\n",
       "    </tr>\n",
       "    <tr>\n",
       "      <th>3</th>\n",
       "      <td>Ajuricaba</td>\n",
       "      <td>4300208</td>\n",
       "      <td>-28.23420</td>\n",
       "      <td>-53.77570</td>\n",
       "      <td>24,1</td>\n",
       "    </tr>\n",
       "    <tr>\n",
       "      <th>4</th>\n",
       "      <td>Alecrim</td>\n",
       "      <td>4300307</td>\n",
       "      <td>-27.65790</td>\n",
       "      <td>-54.76490</td>\n",
       "      <td>18,9</td>\n",
       "    </tr>\n",
       "  </tbody>\n",
       "</table>\n",
       "</div>"
      ],
      "text/plain": [
       "    Município     ibge  latitude  longitude  \\\n",
       "0      Aceguá  4300034 -31.86076  -54.16706   \n",
       "1  Água Santa  4300059 -28.16720  -52.03100   \n",
       "2       Agudo  4300109 -29.64470  -53.25150   \n",
       "3   Ajuricaba  4300208 -28.23420  -53.77570   \n",
       "4     Alecrim  4300307 -27.65790  -54.76490   \n",
       "\n",
       "  /Educação/Ens...de Série/Total 2013 (-)  \n",
       "0                                    25,7  \n",
       "1                                    14,7  \n",
       "2                                    26,4  \n",
       "3                                    24,1  \n",
       "4                                    18,9  "
      ]
     },
     "execution_count": 31,
     "metadata": {},
     "output_type": "execute_result"
    }
   ],
   "source": [
    "df = pd.read_csv('taxa_distorcao_idade_serie_rs.csv', skiprows=1 , encoding='latin1')\n",
    "df.head()"
   ]
  },
  {
   "cell_type": "code",
   "execution_count": 32,
   "metadata": {},
   "outputs": [
    {
     "data": {
      "text/html": [
       "<div>\n",
       "<style scoped>\n",
       "    .dataframe tbody tr th:only-of-type {\n",
       "        vertical-align: middle;\n",
       "    }\n",
       "\n",
       "    .dataframe tbody tr th {\n",
       "        vertical-align: top;\n",
       "    }\n",
       "\n",
       "    .dataframe thead th {\n",
       "        text-align: right;\n",
       "    }\n",
       "</style>\n",
       "<table border=\"1\" class=\"dataframe\">\n",
       "  <thead>\n",
       "    <tr style=\"text-align: right;\">\n",
       "      <th></th>\n",
       "      <th>Município</th>\n",
       "      <th>ibge</th>\n",
       "      <th>latitude</th>\n",
       "      <th>longitude</th>\n",
       "      <th>tx_distorcao</th>\n",
       "    </tr>\n",
       "  </thead>\n",
       "  <tbody>\n",
       "    <tr>\n",
       "      <th>0</th>\n",
       "      <td>Aceguá</td>\n",
       "      <td>4300034</td>\n",
       "      <td>-31.86076</td>\n",
       "      <td>-54.16706</td>\n",
       "      <td>25,7</td>\n",
       "    </tr>\n",
       "    <tr>\n",
       "      <th>1</th>\n",
       "      <td>Água Santa</td>\n",
       "      <td>4300059</td>\n",
       "      <td>-28.16720</td>\n",
       "      <td>-52.03100</td>\n",
       "      <td>14,7</td>\n",
       "    </tr>\n",
       "    <tr>\n",
       "      <th>2</th>\n",
       "      <td>Agudo</td>\n",
       "      <td>4300109</td>\n",
       "      <td>-29.64470</td>\n",
       "      <td>-53.25150</td>\n",
       "      <td>26,4</td>\n",
       "    </tr>\n",
       "    <tr>\n",
       "      <th>3</th>\n",
       "      <td>Ajuricaba</td>\n",
       "      <td>4300208</td>\n",
       "      <td>-28.23420</td>\n",
       "      <td>-53.77570</td>\n",
       "      <td>24,1</td>\n",
       "    </tr>\n",
       "    <tr>\n",
       "      <th>4</th>\n",
       "      <td>Alecrim</td>\n",
       "      <td>4300307</td>\n",
       "      <td>-27.65790</td>\n",
       "      <td>-54.76490</td>\n",
       "      <td>18,9</td>\n",
       "    </tr>\n",
       "  </tbody>\n",
       "</table>\n",
       "</div>"
      ],
      "text/plain": [
       "    Município     ibge  latitude  longitude tx_distorcao\n",
       "0      Aceguá  4300034 -31.86076  -54.16706         25,7\n",
       "1  Água Santa  4300059 -28.16720  -52.03100         14,7\n",
       "2       Agudo  4300109 -29.64470  -53.25150         26,4\n",
       "3   Ajuricaba  4300208 -28.23420  -53.77570         24,1\n",
       "4     Alecrim  4300307 -27.65790  -54.76490         18,9"
      ]
     },
     "execution_count": 32,
     "metadata": {},
     "output_type": "execute_result"
    }
   ],
   "source": [
    "# Renomenando a ultima coluna\n",
    "df.rename(columns={'/Educação/Ens...de Série/Total 2013 (-)': 'tx_distorcao'}, inplace=True)\n",
    "df.head()"
   ]
  },
  {
   "cell_type": "code",
   "execution_count": 33,
   "metadata": {},
   "outputs": [
    {
     "name": "stdout",
     "output_type": "stream",
     "text": [
      "<class 'pandas.core.frame.DataFrame'>\n",
      "RangeIndex: 495 entries, 0 to 494\n",
      "Data columns (total 5 columns):\n",
      " #   Column        Non-Null Count  Dtype  \n",
      "---  ------        --------------  -----  \n",
      " 0   Município     495 non-null    object \n",
      " 1   ibge          495 non-null    int64  \n",
      " 2   latitude      495 non-null    float64\n",
      " 3   longitude     495 non-null    float64\n",
      " 4   tx_distorcao  495 non-null    object \n",
      "dtypes: float64(2), int64(1), object(2)\n",
      "memory usage: 19.5+ KB\n"
     ]
    }
   ],
   "source": [
    "df.info()"
   ]
  },
  {
   "cell_type": "code",
   "execution_count": 34,
   "metadata": {},
   "outputs": [
    {
     "data": {
      "text/html": [
       "<div>\n",
       "<style scoped>\n",
       "    .dataframe tbody tr th:only-of-type {\n",
       "        vertical-align: middle;\n",
       "    }\n",
       "\n",
       "    .dataframe tbody tr th {\n",
       "        vertical-align: top;\n",
       "    }\n",
       "\n",
       "    .dataframe thead th {\n",
       "        text-align: right;\n",
       "    }\n",
       "</style>\n",
       "<table border=\"1\" class=\"dataframe\">\n",
       "  <thead>\n",
       "    <tr style=\"text-align: right;\">\n",
       "      <th></th>\n",
       "      <th>Município</th>\n",
       "      <th>ibge</th>\n",
       "      <th>latitude</th>\n",
       "      <th>longitude</th>\n",
       "      <th>tx_distorcao</th>\n",
       "    </tr>\n",
       "  </thead>\n",
       "  <tbody>\n",
       "    <tr>\n",
       "      <th>0</th>\n",
       "      <td>Aceguá</td>\n",
       "      <td>4300034</td>\n",
       "      <td>-31.86076</td>\n",
       "      <td>-54.16706</td>\n",
       "      <td>25.7</td>\n",
       "    </tr>\n",
       "    <tr>\n",
       "      <th>1</th>\n",
       "      <td>Água Santa</td>\n",
       "      <td>4300059</td>\n",
       "      <td>-28.16720</td>\n",
       "      <td>-52.03100</td>\n",
       "      <td>14.7</td>\n",
       "    </tr>\n",
       "    <tr>\n",
       "      <th>2</th>\n",
       "      <td>Agudo</td>\n",
       "      <td>4300109</td>\n",
       "      <td>-29.64470</td>\n",
       "      <td>-53.25150</td>\n",
       "      <td>26.4</td>\n",
       "    </tr>\n",
       "    <tr>\n",
       "      <th>3</th>\n",
       "      <td>Ajuricaba</td>\n",
       "      <td>4300208</td>\n",
       "      <td>-28.23420</td>\n",
       "      <td>-53.77570</td>\n",
       "      <td>24.1</td>\n",
       "    </tr>\n",
       "    <tr>\n",
       "      <th>4</th>\n",
       "      <td>Alecrim</td>\n",
       "      <td>4300307</td>\n",
       "      <td>-27.65790</td>\n",
       "      <td>-54.76490</td>\n",
       "      <td>18.9</td>\n",
       "    </tr>\n",
       "  </tbody>\n",
       "</table>\n",
       "</div>"
      ],
      "text/plain": [
       "    Município     ibge  latitude  longitude tx_distorcao\n",
       "0      Aceguá  4300034 -31.86076  -54.16706         25.7\n",
       "1  Água Santa  4300059 -28.16720  -52.03100         14.7\n",
       "2       Agudo  4300109 -29.64470  -53.25150         26.4\n",
       "3   Ajuricaba  4300208 -28.23420  -53.77570         24.1\n",
       "4     Alecrim  4300307 -27.65790  -54.76490         18.9"
      ]
     },
     "execution_count": 34,
     "metadata": {},
     "output_type": "execute_result"
    }
   ],
   "source": [
    "# transformando coluna tx_distorcao para float\n",
    "# Primeiro vamos trocar virgula por ponto\n",
    "df['tx_distorcao'] = df['tx_distorcao'].str.replace(',', '.')\n",
    "\n",
    "df.head()"
   ]
  },
  {
   "cell_type": "code",
   "execution_count": 35,
   "metadata": {},
   "outputs": [
    {
     "name": "stdout",
     "output_type": "stream",
     "text": [
      "<class 'pandas.core.frame.DataFrame'>\n",
      "RangeIndex: 495 entries, 0 to 494\n",
      "Data columns (total 5 columns):\n",
      " #   Column        Non-Null Count  Dtype  \n",
      "---  ------        --------------  -----  \n",
      " 0   Município     495 non-null    object \n",
      " 1   ibge          495 non-null    int64  \n",
      " 2   latitude      495 non-null    float64\n",
      " 3   longitude     495 non-null    float64\n",
      " 4   tx_distorcao  495 non-null    object \n",
      "dtypes: float64(2), int64(1), object(2)\n",
      "memory usage: 19.5+ KB\n"
     ]
    }
   ],
   "source": [
    "# Ainda está como object, precisamos converter para float\n",
    "df.info()"
   ]
  },
  {
   "cell_type": "code",
   "execution_count": 36,
   "metadata": {},
   "outputs": [
    {
     "name": "stdout",
     "output_type": "stream",
     "text": [
      "<class 'pandas.core.frame.DataFrame'>\n",
      "RangeIndex: 495 entries, 0 to 494\n",
      "Data columns (total 5 columns):\n",
      " #   Column        Non-Null Count  Dtype  \n",
      "---  ------        --------------  -----  \n",
      " 0   Município     495 non-null    object \n",
      " 1   ibge          495 non-null    int64  \n",
      " 2   latitude      495 non-null    float64\n",
      " 3   longitude     495 non-null    float64\n",
      " 4   tx_distorcao  495 non-null    float64\n",
      "dtypes: float64(3), int64(1), object(1)\n",
      "memory usage: 19.5+ KB\n"
     ]
    }
   ],
   "source": [
    "df['tx_distorcao'] = df['tx_distorcao'].astype(float)\n",
    "df.info()"
   ]
  },
  {
   "cell_type": "code",
   "execution_count": 37,
   "metadata": {},
   "outputs": [
    {
     "data": {
      "text/html": [
       "<div>\n",
       "<style scoped>\n",
       "    .dataframe tbody tr th:only-of-type {\n",
       "        vertical-align: middle;\n",
       "    }\n",
       "\n",
       "    .dataframe tbody tr th {\n",
       "        vertical-align: top;\n",
       "    }\n",
       "\n",
       "    .dataframe thead th {\n",
       "        text-align: right;\n",
       "    }\n",
       "</style>\n",
       "<table border=\"1\" class=\"dataframe\">\n",
       "  <thead>\n",
       "    <tr style=\"text-align: right;\">\n",
       "      <th></th>\n",
       "      <th>Município</th>\n",
       "      <th>ibge</th>\n",
       "      <th>latitude</th>\n",
       "      <th>longitude</th>\n",
       "      <th>tx_distorcao</th>\n",
       "    </tr>\n",
       "  </thead>\n",
       "  <tbody>\n",
       "    <tr>\n",
       "      <th>490</th>\n",
       "      <td>Vista Alegre do Prata</td>\n",
       "      <td>4323606</td>\n",
       "      <td>-28.8052</td>\n",
       "      <td>-51.7946</td>\n",
       "      <td>2.6</td>\n",
       "    </tr>\n",
       "    <tr>\n",
       "      <th>375</th>\n",
       "      <td>Santo Antônio do Palma</td>\n",
       "      <td>4317558</td>\n",
       "      <td>-28.4956</td>\n",
       "      <td>-52.0267</td>\n",
       "      <td>4.3</td>\n",
       "    </tr>\n",
       "    <tr>\n",
       "      <th>28</th>\n",
       "      <td>Áurea</td>\n",
       "      <td>4301552</td>\n",
       "      <td>-27.6936</td>\n",
       "      <td>-52.0505</td>\n",
       "      <td>5.8</td>\n",
       "    </tr>\n",
       "    <tr>\n",
       "      <th>268</th>\n",
       "      <td>Nicolau Vergueiro</td>\n",
       "      <td>4312674</td>\n",
       "      <td>-28.5298</td>\n",
       "      <td>-52.4676</td>\n",
       "      <td>7.0</td>\n",
       "    </tr>\n",
       "    <tr>\n",
       "      <th>128</th>\n",
       "      <td>Derrubadas</td>\n",
       "      <td>4306320</td>\n",
       "      <td>-27.2642</td>\n",
       "      <td>-53.8645</td>\n",
       "      <td>7.4</td>\n",
       "    </tr>\n",
       "    <tr>\n",
       "      <th>119</th>\n",
       "      <td>Cotiporã</td>\n",
       "      <td>4305959</td>\n",
       "      <td>-28.9891</td>\n",
       "      <td>-51.6971</td>\n",
       "      <td>7.5</td>\n",
       "    </tr>\n",
       "    <tr>\n",
       "      <th>68</th>\n",
       "      <td>Campestre da Serra</td>\n",
       "      <td>4303673</td>\n",
       "      <td>-28.7926</td>\n",
       "      <td>-51.0941</td>\n",
       "      <td>7.6</td>\n",
       "    </tr>\n",
       "    <tr>\n",
       "      <th>476</th>\n",
       "      <td>Vanini</td>\n",
       "      <td>4322558</td>\n",
       "      <td>-28.4758</td>\n",
       "      <td>-51.8447</td>\n",
       "      <td>7.8</td>\n",
       "    </tr>\n",
       "    <tr>\n",
       "      <th>236</th>\n",
       "      <td>Linha Nova</td>\n",
       "      <td>4311643</td>\n",
       "      <td>-29.4679</td>\n",
       "      <td>-51.2003</td>\n",
       "      <td>8.0</td>\n",
       "    </tr>\n",
       "    <tr>\n",
       "      <th>392</th>\n",
       "      <td>São José do Inhacorá</td>\n",
       "      <td>4318499</td>\n",
       "      <td>-27.7251</td>\n",
       "      <td>-54.1275</td>\n",
       "      <td>8.0</td>\n",
       "    </tr>\n",
       "  </tbody>\n",
       "</table>\n",
       "</div>"
      ],
      "text/plain": [
       "                  Município     ibge  latitude  longitude  tx_distorcao\n",
       "490   Vista Alegre do Prata  4323606  -28.8052   -51.7946           2.6\n",
       "375  Santo Antônio do Palma  4317558  -28.4956   -52.0267           4.3\n",
       "28                    Áurea  4301552  -27.6936   -52.0505           5.8\n",
       "268       Nicolau Vergueiro  4312674  -28.5298   -52.4676           7.0\n",
       "128              Derrubadas  4306320  -27.2642   -53.8645           7.4\n",
       "119                Cotiporã  4305959  -28.9891   -51.6971           7.5\n",
       "68       Campestre da Serra  4303673  -28.7926   -51.0941           7.6\n",
       "476                  Vanini  4322558  -28.4758   -51.8447           7.8\n",
       "236              Linha Nova  4311643  -29.4679   -51.2003           8.0\n",
       "392    São José do Inhacorá  4318499  -27.7251   -54.1275           8.0"
      ]
     },
     "execution_count": 37,
     "metadata": {},
     "output_type": "execute_result"
    }
   ],
   "source": [
    "# Mostrando os 10 municipios com menor taxa de distorção\n",
    "df.nsmallest(10, 'tx_distorcao')"
   ]
  },
  {
   "cell_type": "code",
   "execution_count": 38,
   "metadata": {},
   "outputs": [
    {
     "data": {
      "text/html": [
       "<div>\n",
       "<style scoped>\n",
       "    .dataframe tbody tr th:only-of-type {\n",
       "        vertical-align: middle;\n",
       "    }\n",
       "\n",
       "    .dataframe tbody tr th {\n",
       "        vertical-align: top;\n",
       "    }\n",
       "\n",
       "    .dataframe thead th {\n",
       "        text-align: right;\n",
       "    }\n",
       "</style>\n",
       "<table border=\"1\" class=\"dataframe\">\n",
       "  <thead>\n",
       "    <tr style=\"text-align: right;\">\n",
       "      <th></th>\n",
       "      <th>Município</th>\n",
       "      <th>ibge</th>\n",
       "      <th>latitude</th>\n",
       "      <th>longitude</th>\n",
       "      <th>tx_distorcao</th>\n",
       "    </tr>\n",
       "  </thead>\n",
       "  <tbody>\n",
       "    <tr>\n",
       "      <th>307</th>\n",
       "      <td>Pedras Altas</td>\n",
       "      <td>4314175</td>\n",
       "      <td>-31.7217</td>\n",
       "      <td>-53.5838</td>\n",
       "      <td>56.0</td>\n",
       "    </tr>\n",
       "    <tr>\n",
       "      <th>316</th>\n",
       "      <td>Pinheiro Machado</td>\n",
       "      <td>4314506</td>\n",
       "      <td>-31.5794</td>\n",
       "      <td>-53.3798</td>\n",
       "      <td>53.9</td>\n",
       "    </tr>\n",
       "    <tr>\n",
       "      <th>17</th>\n",
       "      <td>Arambaré</td>\n",
       "      <td>4300851</td>\n",
       "      <td>-30.9093</td>\n",
       "      <td>-51.5046</td>\n",
       "      <td>52.8</td>\n",
       "    </tr>\n",
       "    <tr>\n",
       "      <th>140</th>\n",
       "      <td>Eldorado do Sul</td>\n",
       "      <td>4306767</td>\n",
       "      <td>-30.0847</td>\n",
       "      <td>-51.6187</td>\n",
       "      <td>51.9</td>\n",
       "    </tr>\n",
       "    <tr>\n",
       "      <th>35</th>\n",
       "      <td>Barra do Quaraí</td>\n",
       "      <td>4301875</td>\n",
       "      <td>-30.2029</td>\n",
       "      <td>-57.5497</td>\n",
       "      <td>51.5</td>\n",
       "    </tr>\n",
       "    <tr>\n",
       "      <th>393</th>\n",
       "      <td>São José do Norte</td>\n",
       "      <td>4318507</td>\n",
       "      <td>-32.0151</td>\n",
       "      <td>-52.0331</td>\n",
       "      <td>49.4</td>\n",
       "    </tr>\n",
       "    <tr>\n",
       "      <th>413</th>\n",
       "      <td>São Valério do Sul</td>\n",
       "      <td>4319737</td>\n",
       "      <td>-27.7906</td>\n",
       "      <td>-53.9368</td>\n",
       "      <td>49.2</td>\n",
       "    </tr>\n",
       "    <tr>\n",
       "      <th>193</th>\n",
       "      <td>Hulha Negra</td>\n",
       "      <td>4309654</td>\n",
       "      <td>-31.4067</td>\n",
       "      <td>-53.8667</td>\n",
       "      <td>49.0</td>\n",
       "    </tr>\n",
       "    <tr>\n",
       "      <th>106</th>\n",
       "      <td>Chuí</td>\n",
       "      <td>4305439</td>\n",
       "      <td>-33.6866</td>\n",
       "      <td>-53.4594</td>\n",
       "      <td>48.6</td>\n",
       "    </tr>\n",
       "    <tr>\n",
       "      <th>233</th>\n",
       "      <td>Lavras do Sul</td>\n",
       "      <td>4311502</td>\n",
       "      <td>-30.8071</td>\n",
       "      <td>-53.8931</td>\n",
       "      <td>47.7</td>\n",
       "    </tr>\n",
       "  </tbody>\n",
       "</table>\n",
       "</div>"
      ],
      "text/plain": [
       "              Município     ibge  latitude  longitude  tx_distorcao\n",
       "307        Pedras Altas  4314175  -31.7217   -53.5838          56.0\n",
       "316    Pinheiro Machado  4314506  -31.5794   -53.3798          53.9\n",
       "17             Arambaré  4300851  -30.9093   -51.5046          52.8\n",
       "140     Eldorado do Sul  4306767  -30.0847   -51.6187          51.9\n",
       "35      Barra do Quaraí  4301875  -30.2029   -57.5497          51.5\n",
       "393   São José do Norte  4318507  -32.0151   -52.0331          49.4\n",
       "413  São Valério do Sul  4319737  -27.7906   -53.9368          49.2\n",
       "193         Hulha Negra  4309654  -31.4067   -53.8667          49.0\n",
       "106                Chuí  4305439  -33.6866   -53.4594          48.6\n",
       "233       Lavras do Sul  4311502  -30.8071   -53.8931          47.7"
      ]
     },
     "execution_count": 38,
     "metadata": {},
     "output_type": "execute_result"
    }
   ],
   "source": [
    "# Mostrando 10 municipios com maior taxa de distorção\n",
    "df.nlargest(10, 'tx_distorcao')"
   ]
  },
  {
   "cell_type": "code",
   "execution_count": 40,
   "metadata": {},
   "outputs": [
    {
     "data": {
      "text/plain": [
       "<matplotlib.axes._subplots.AxesSubplot at 0x7f471e9490d0>"
      ]
     },
     "execution_count": 40,
     "metadata": {},
     "output_type": "execute_result"
    },
    {
     "data": {
      "image/png": "[encoded data removed]",
      "text/plain": [
       "<Figure size 432x288 with 1 Axes>"
      ]
     },
     "metadata": {
      "needs_background": "light"
     },
     "output_type": "display_data"
    }
   ],
   "source": [
    "# Plotando um histograma dos dados\n",
    "df['tx_distorcao'].plot.hist(bins=100)"
   ]
  },
  {
   "cell_type": "code",
   "execution_count": 45,
   "metadata": {},
   "outputs": [
    {
     "data": {
      "text/plain": [
       "Município       17\n",
       "ibge            17\n",
       "latitude        17\n",
       "longitude       17\n",
       "tx_distorcao    17\n",
       "dtype: int64"
      ]
     },
     "execution_count": 45,
     "metadata": {},
     "output_type": "execute_result"
    }
   ],
   "source": [
    "# Quantos munucipios estao abaixo de 10\n",
    "df[df['tx_distorcao'] <= 10].count()"
   ]
  },
  {
   "cell_type": "code",
   "execution_count": 46,
   "metadata": {},
   "outputs": [
    {
     "data": {
      "text/plain": [
       "17.5    8\n",
       "25.5    6\n",
       "19.4    6\n",
       "19.8    6\n",
       "29.2    5\n",
       "       ..\n",
       "49.4    1\n",
       "11.8    1\n",
       "37.9    1\n",
       "20.9    1\n",
       "36.0    1\n",
       "Name: tx_distorcao, Length: 261, dtype: int64"
      ]
     },
     "execution_count": 46,
     "metadata": {},
     "output_type": "execute_result"
    }
   ],
   "source": [
    "# Quantos municipios estão acima de 45\n",
    "dfdf['tx_distorcao'].value_counts()"
   ]
  }
 ],
 "metadata": {
  "kernelspec": {
   "display_name": "Python 3",
   "language": "python",
   "name": "python3"
  },
  "language_info": {
   "codemirror_mode": {
    "name": "ipython",
    "version": 3
   },
   "file_extension": ".py",
   "mimetype": "text/x-python",
   "name": "python",
   "nbconvert_exporter": "python",
   "pygments_lexer": "ipython3",
   "version": "3.8.3"
  }
 },
 "nbformat": 4,
 "nbformat_minor": 4
}
