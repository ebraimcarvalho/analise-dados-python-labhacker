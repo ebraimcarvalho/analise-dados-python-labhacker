{
 "cells": [
  {
   "cell_type": "markdown",
   "metadata": {},
   "source": [
    "# Análise dos Filmes exibidos no Brasil entre 2009 e 2018\n",
    "\n",
    "Vamos Analisar os filmes brasileiros e estrangeiros exibidos no Brasil!\n",
    "Dados extraídos do site: (https://oca.ancine.gov.br/cinema)\n",
    "\n",
    "Arquivo -> filmes_2009_2018.xlsx"
   ]
  }
 ],
 "metadata": {
  "kernelspec": {
   "display_name": "Python 3",
   "language": "python",
   "name": "python3"
  },
  "language_info": {
   "codemirror_mode": {
    "name": "ipython",
    "version": 3
   },
   "file_extension": ".py",
   "mimetype": "text/x-python",
   "name": "python",
   "nbconvert_exporter": "python",
   "pygments_lexer": "ipython3",
   "version": "3.8.3"
  }
 },
 "nbformat": 4,
 "nbformat_minor": 4
}
