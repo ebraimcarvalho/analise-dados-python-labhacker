{
 "cells": [
  {
   "cell_type": "code",
   "execution_count": 57,
   "metadata": {},
   "outputs": [
    {
     "data": {
      "text/html": [
       "<div>\n",
       "<style scoped>\n",
       "    .dataframe tbody tr th:only-of-type {\n",
       "        vertical-align: middle;\n",
       "    }\n",
       "\n",
       "    .dataframe tbody tr th {\n",
       "        vertical-align: top;\n",
       "    }\n",
       "\n",
       "    .dataframe thead th {\n",
       "        text-align: right;\n",
       "    }\n",
       "</style>\n",
       "<table border=\"1\" class=\"dataframe\">\n",
       "  <thead>\n",
       "    <tr style=\"text-align: right;\">\n",
       "      <th></th>\n",
       "      <th>Hospital</th>\n",
       "      <th>Complexidade</th>\n",
       "      <th>Grupo</th>\n",
       "      <th>SubGrupo</th>\n",
       "      <th>Procedimento</th>\n",
       "      <th>Quantidade</th>\n",
       "    </tr>\n",
       "  </thead>\n",
       "  <tbody>\n",
       "    <tr>\n",
       "      <th>0</th>\n",
       "      <td>FARMACIA DE ALTO CUSTO - ASA SUL</td>\n",
       "      <td>Alta complexidade</td>\n",
       "      <td>06 - Medicamentos</td>\n",
       "      <td>Sub Grupo: 04 - Componente Especializado da As...</td>\n",
       "      <td>Fingolimode 0,5 Mg (por Cápsula)</td>\n",
       "      <td>28</td>\n",
       "    </tr>\n",
       "    <tr>\n",
       "      <th>1</th>\n",
       "      <td>FARMACIA DE ALTO CUSTO - ASA SUL</td>\n",
       "      <td>Alta complexidade</td>\n",
       "      <td>06 - Medicamentos</td>\n",
       "      <td>Sub Grupo: 04 - Componente Especializado da As...</td>\n",
       "      <td>Ciprofibrato 100 Mg (por Comprimido)</td>\n",
       "      <td>30</td>\n",
       "    </tr>\n",
       "    <tr>\n",
       "      <th>2</th>\n",
       "      <td>FARMACIA DE ALTO CUSTO - ASA SUL</td>\n",
       "      <td>Alta complexidade</td>\n",
       "      <td>06 - Medicamentos</td>\n",
       "      <td>Sub Grupo: 04 - Componente Especializado da As...</td>\n",
       "      <td>Ciprofibrato 100 Mg (por Comprimido)</td>\n",
       "      <td>30</td>\n",
       "    </tr>\n",
       "    <tr>\n",
       "      <th>3</th>\n",
       "      <td>FARMACIA DE ALTO CUSTO - ASA SUL</td>\n",
       "      <td>Alta complexidade</td>\n",
       "      <td>06 - Medicamentos</td>\n",
       "      <td>Sub Grupo: 04 - Componente Especializado da As...</td>\n",
       "      <td>Ciprofibrato 100 Mg (por Comprimido)</td>\n",
       "      <td>30</td>\n",
       "    </tr>\n",
       "    <tr>\n",
       "      <th>4</th>\n",
       "      <td>FARMACIA DE ALTO CUSTO - ASA SUL</td>\n",
       "      <td>Alta complexidade</td>\n",
       "      <td>06 - Medicamentos</td>\n",
       "      <td>Sub Grupo: 04 - Componente Especializado da As...</td>\n",
       "      <td>Ciprofibrato 100 Mg (por Comprimido)</td>\n",
       "      <td>30</td>\n",
       "    </tr>\n",
       "  </tbody>\n",
       "</table>\n",
       "</div>"
      ],
      "text/plain": [
       "                           Hospital       Complexidade              Grupo  \\\n",
       "0  FARMACIA DE ALTO CUSTO - ASA SUL  Alta complexidade  06 - Medicamentos   \n",
       "1  FARMACIA DE ALTO CUSTO - ASA SUL  Alta complexidade  06 - Medicamentos   \n",
       "2  FARMACIA DE ALTO CUSTO - ASA SUL  Alta complexidade  06 - Medicamentos   \n",
       "3  FARMACIA DE ALTO CUSTO - ASA SUL  Alta complexidade  06 - Medicamentos   \n",
       "4  FARMACIA DE ALTO CUSTO - ASA SUL  Alta complexidade  06 - Medicamentos   \n",
       "\n",
       "                                            SubGrupo  \\\n",
       "0  Sub Grupo: 04 - Componente Especializado da As...   \n",
       "1  Sub Grupo: 04 - Componente Especializado da As...   \n",
       "2  Sub Grupo: 04 - Componente Especializado da As...   \n",
       "3  Sub Grupo: 04 - Componente Especializado da As...   \n",
       "4  Sub Grupo: 04 - Componente Especializado da As...   \n",
       "\n",
       "                           Procedimento  Quantidade  \n",
       "0      Fingolimode 0,5 Mg (por Cápsula)          28  \n",
       "1  Ciprofibrato 100 Mg (por Comprimido)          30  \n",
       "2  Ciprofibrato 100 Mg (por Comprimido)          30  \n",
       "3  Ciprofibrato 100 Mg (por Comprimido)          30  \n",
       "4  Ciprofibrato 100 Mg (por Comprimido)          30  "
      ]
     },
     "execution_count": 57,
     "metadata": {},
     "output_type": "execute_result"
    }
   ],
   "source": [
    "# Importa Pandas e informa matplotlib para desenhar grafico neste ambiente\n",
    "import pandas as pd\n",
    "%matplotlib inline\n",
    "\n",
    "# Lê csv, informa que é separado por ';' e tem encoding cp1252 e busca apenas as colunas de index 2, 3, 5, 7, 9, 10\n",
    "df = pd.read_csv('sia112018.csv', sep=';', encoding='cp1252', usecols=[2, 3, 5, 7, 9, 10])\n",
    "\n",
    "# Renomea os nomes das colunas\n",
    "df.columns = ['Hospital', 'Complexidade', 'Grupo', 'SubGrupo', 'Procedimento', 'Quantidade']\n",
    "\n",
    "# Mostra as 5 primeiras linhas\n",
    "df.head()"
   ]
  },
  {
   "cell_type": "code",
   "execution_count": 24,
   "metadata": {},
   "outputs": [
    {
     "data": {
      "text/html": [
       "<div>\n",
       "<style scoped>\n",
       "    .dataframe tbody tr th:only-of-type {\n",
       "        vertical-align: middle;\n",
       "    }\n",
       "\n",
       "    .dataframe tbody tr th {\n",
       "        vertical-align: top;\n",
       "    }\n",
       "\n",
       "    .dataframe thead th {\n",
       "        text-align: right;\n",
       "    }\n",
       "</style>\n",
       "<table border=\"1\" class=\"dataframe\">\n",
       "  <thead>\n",
       "    <tr style=\"text-align: right;\">\n",
       "      <th></th>\n",
       "      <th>Quantidade</th>\n",
       "    </tr>\n",
       "  </thead>\n",
       "  <tbody>\n",
       "    <tr>\n",
       "      <th>count</th>\n",
       "      <td>180282.000000</td>\n",
       "    </tr>\n",
       "    <tr>\n",
       "      <th>mean</th>\n",
       "      <td>17.953717</td>\n",
       "    </tr>\n",
       "    <tr>\n",
       "      <th>std</th>\n",
       "      <td>224.910496</td>\n",
       "    </tr>\n",
       "    <tr>\n",
       "      <th>min</th>\n",
       "      <td>0.000000</td>\n",
       "    </tr>\n",
       "    <tr>\n",
       "      <th>25%</th>\n",
       "      <td>1.000000</td>\n",
       "    </tr>\n",
       "    <tr>\n",
       "      <th>50%</th>\n",
       "      <td>1.000000</td>\n",
       "    </tr>\n",
       "    <tr>\n",
       "      <th>75%</th>\n",
       "      <td>4.000000</td>\n",
       "    </tr>\n",
       "    <tr>\n",
       "      <th>max</th>\n",
       "      <td>70861.000000</td>\n",
       "    </tr>\n",
       "  </tbody>\n",
       "</table>\n",
       "</div>"
      ],
      "text/plain": [
       "          Quantidade\n",
       "count  180282.000000\n",
       "mean       17.953717\n",
       "std       224.910496\n",
       "min         0.000000\n",
       "25%         1.000000\n",
       "50%         1.000000\n",
       "75%         4.000000\n",
       "max     70861.000000"
      ]
     },
     "execution_count": 24,
     "metadata": {},
     "output_type": "execute_result"
    }
   ],
   "source": [
    "# Resumo do dataframe\n",
    "df.describe()"
   ]
  },
  {
   "cell_type": "code",
   "execution_count": 25,
   "metadata": {},
   "outputs": [
    {
     "data": {
      "text/plain": [
       "array(['FARMACIA DE ALTO CUSTO - ASA SUL',\n",
       "       'IDR SAMAMBAIA SERVICOS MEDICOS', 'CEAL LP', 'SOCLIMED',\n",
       "       'INSTITUTO HOSPITAL DE BASE DO DISTRITO FEDERAL', 'HRAN', 'CBV',\n",
       "       'HRS', 'HOSPITAL REGIONAL DE CEILANDIA', 'HRG', 'HRL', 'NEPHRON',\n",
       "       'INSTITUTO DE CARDIOLOGIA DO DISTRITO FEDERAL',\n",
       "       'SEANE SERVICO DE ASSISTENCIA CLIN',\n",
       "       'HRT HOSPITAL REGIONAL DE TAGUATINGA',\n",
       "       'FARMACIA DE ALTO CUSTO - CEILANDIA',\n",
       "       'HOSPITAL DA CRIANCA DE BRASILIA JOSE ALENCAR-HCB',\n",
       "       'HOSPITAL UNIVERSITARIO DE BRASILIA',\n",
       "       'BANCO DE OLHOS DO DISTRITO FEDERAL', 'RENAL CARE',\n",
       "       'FARMACIA DE ALTO CUSTO GAMA', 'POLICLINICA RIACHO FUNDO I',\n",
       "       'POLICLINICA 03 DO LAGO SUL',\n",
       "       'POLICLINA DA REGIAO OESTE UNIDADE BRAZLANDIA',\n",
       "       'POLICLINICA 514 SUL - GSAS2 DIRASE/SRSCE',\n",
       "       'LABORATORIO CENTRAL DA REGIAO DE SAUDE SUDOESTE',\n",
       "       'POLICLINICA DE SOBRADINHO', 'CEDOH ASA NORTE',\n",
       "       'POLICLINICA DA ATENCAO SECUNDARIA DE SAO SEBASTIAO',\n",
       "       'POLICLINICA DE SAMAMBAIA', 'POLICLINICA DE TAGUATINGA',\n",
       "       'HOSPITAL MATERNO INFANTIL DE BRASILIA - HMIB', 'HOSPITAL DIA',\n",
       "       'HRSAM - HOSPITAL REGIONAL DE SAMAMBAIA', 'LACEN DF',\n",
       "       'HOSPITAL SAO VICENTE DE PAULO - HSVP', 'HRPL', 'ULTRAMED',\n",
       "       'CLINICA DE NEFROLOGIA RENAL VIDA - CNRV', 'HRBZ',\n",
       "       'CENTRAL DE RADIOLOGIA DE TAGUATINGA', 'FUNDACAO HEMOCENTRO',\n",
       "       'CEO 712 912 SUL', 'HOSPITAL SAO FRANCISCO', 'DIAGNOSTIK',\n",
       "       'VITAILABORATORIO E IMAGEM',\n",
       "       'UPA - UNIDADE DE PRONTO ATENDIMENTO DE SAO SEBASTIAO',\n",
       "       'CENTRAL DE REGULACAO', 'OFICINA ORTOPEDICA DO DISTRITO FEDERAL',\n",
       "       'CER', 'HRGU', 'UPA RECANTO DAS EMAS',\n",
       "       'UNIDADE DE PRONTO ATENDIMENTO CEILANDIA', 'HRSM',\n",
       "       'RADIOGRAPH CLINICA DE IMAGEM',\n",
       "       'HOSPITAL DE APOIO DE BRASILIA-HAB', 'POLICLINICA DE PLANALTINA',\n",
       "       'POLICLINICA NUCLEO BANDEIRANTE', 'CAPS III SAMAMBAIA',\n",
       "       'CAPSI ASA NORTE', 'CARRETA OFTALMOLOGICA', 'CAPS II RIACHO FUNDO',\n",
       "       'UPA SOBRADINHO', 'UPA NUCLEO BANDEIRANTE',\n",
       "       'CENTRO DE ATENCAO PSICOSSOCIAL CAPS AD III BRASILIA',\n",
       "       'CAPS I SOBRADINHO', 'CEREST DA REGIAO SUL',\n",
       "       'SAMU DF USA - SOBRADINHO', 'SAMU DF USA - GAMA',\n",
       "       'SAMU DF USB - VICENTE PIRES', 'SAMU DF USA - SAMAMBAIA',\n",
       "       'SAMU DF USA - CEILANDIA', 'SAMU DF USB - PLANO PILOTO II',\n",
       "       'SAMU DF USB - BANDEIRANTE', 'SAMU DF USB - PLANO PILOTO I',\n",
       "       'SAMU DF USB - PARANOA I', 'SAMU DF USB - TAGUATINGA I',\n",
       "       'SAMU DF USB - TAGUATINGA II', 'SAMU DF USB - PLANALTINA I',\n",
       "       'SAMU DF USB - SOBRADINHO I', 'SAMU DF USB - GAMA I',\n",
       "       'SAMU DF USB - SANTA MARIA I', 'SAMU DF USB - SANTA MARIA II',\n",
       "       'SAMU DF USB - SAMAMBAIA II', 'SAMU DF USB - CEILANDIA I',\n",
       "       'SAMU DF USB - SAMAMBAIA I', 'SAMU DF USB - RECANTO DAS EMAS II',\n",
       "       'SAMU DF USB - CEILANDIA II', 'SAMU DF USB - CEILANDIA III',\n",
       "       'SAMU DF USB - CEILANDIA IV', 'SAMU DF USB - BRAZLANDIA I',\n",
       "       'SAMU DF USB - PLANO PILOTO III', 'SAMU DF USB - GAMA II',\n",
       "       'SAMU DF USB - TAGUATINGA III (AGUAS CLARAS)',\n",
       "       'SAMU DF MOTOLANCIA - RIACHO FUNDO I',\n",
       "       'SAMU DF USB - SAO SEBASTIAO I',\n",
       "       'SAMU DF MOTOLANCIA - SOBRADINHO I',\n",
       "       'SAMU DF USB - RECANTO DAS EMAS I',\n",
       "       'SAMU DF MOTOLANCIA - TAGUATINGA I',\n",
       "       'SAMU DF MOTOLANCIA - RECANTO DAS EMAS I',\n",
       "       'SAMU DF MOTOLANCIA - GAMA I', 'SAMU DF USB - RIACHO FUNDO',\n",
       "       'SAMU DF USB - SOBRADINHO II', 'SAMU DF USA - TAGUATINGA',\n",
       "       'SAMU DF USA - PLANO PILOTO', 'SAMU DF USA - NEO',\n",
       "       'SAMU DF MOTOLANCIA - SOBRADINHO II',\n",
       "       'SAMU DF MOTOLANCIA - CEILANDIA III',\n",
       "       'SAMU DF MOTOLANCIA - RECANTO DAS EMAS II',\n",
       "       'SAMU DF MOTOLANCIA - CEILANDIA IV',\n",
       "       'SAMU DF MOTOLANCIA - TAGUATINGA II',\n",
       "       'SAMU DF MOTOLANCIA - SAMAMBAIA I',\n",
       "       'SAMU DF MOTOLANCIA - SAMAMBAIA II',\n",
       "       'SAMU DF MOTOLANCIA - RIACHO FUNDO II',\n",
       "       'SAMU DF MOTOLANCIA - GAMA II',\n",
       "       'SAMU DF MOTOLANCIA - SANTA MARIA I',\n",
       "       'SAMU DF MOTOLANCIA - SANTA MARIA II', 'SAMU DF USB - GUARA I',\n",
       "       'CAPS AD ITAPOA', 'CENTRAL DE REGULACAO DO SAMU DISTRITO FEDERAL',\n",
       "       'SAMU DF MOTOLANCIA - GUARA I', 'SAMU DF MOTOLANCIA - GUARA II',\n",
       "       'CARRETA ODONTOLOGICA 1', 'NUFIRF SOBRADINHO',\n",
       "       'POLICLINICA DO GAMA', 'CAPS AD GUARA II',\n",
       "       'CENTRO DE ATENCAO PSICOSSOCIAL AD III CEILANDIA',\n",
       "       'CASA DE PARTO DE SAO SEBASTIAO', 'POLICLINICA RIACHO FUNDO II',\n",
       "       'CAPS II TAGUATINGA', 'LABORATORIO REGIONAL DE CEILANDIA',\n",
       "       'CENTRO DE ORIENTACAO MEDICO PSICOPEDAGOGICO - COMPP',\n",
       "       'LRGU GUARA', 'UPA TIPO III SAMAMBAIA',\n",
       "       'POLICLINICA DA ATENCAO SECUNDARIA PARANOA',\n",
       "       'CENTRO DE ESPECIALIDADES ODONTOLOGICAS', 'CAPS II PARANOA',\n",
       "       'CAPS AD SOBRADINHO', 'CEREST ESTADUAL', 'SAMU DF USB - GUARA II',\n",
       "       'SAMU DF USA - NUSAM', 'CEREST DA REGIAO SUDOESTE',\n",
       "       'CAPS AD SANTA MARIA', 'CAPS AD III SAMAMBAIA',\n",
       "       'CAPS I TAGUATINGA', 'SAMU DF USB - PLANALTINA II',\n",
       "       'CENTRO DE ATENCAO PSICOSSOCIAL CAPS II BRASILIA'], dtype=object)"
      ]
     },
     "execution_count": 25,
     "metadata": {},
     "output_type": "execute_result"
    }
   ],
   "source": [
    "# Lista os itens únicos (duplicadas removidas) na coluna Hospital\n",
    "df['Hospital'].unique()"
   ]
  },
  {
   "cell_type": "code",
   "execution_count": 26,
   "metadata": {},
   "outputs": [
    {
     "data": {
      "text/plain": [
       "HOSPITAL MATERNO INFANTIL DE BRASILIA - HMIB      18929\n",
       "FARMACIA DE ALTO CUSTO - CEILANDIA                15693\n",
       "INSTITUTO HOSPITAL DE BASE DO DISTRITO FEDERAL    15191\n",
       "FARMACIA DE ALTO CUSTO - ASA SUL                  13876\n",
       "HRT HOSPITAL REGIONAL DE TAGUATINGA               11156\n",
       "                                                  ...  \n",
       "SAMU DF USB - SAMAMBAIA II                            1\n",
       "SAMU DF MOTOLANCIA - GUARA II                         1\n",
       "SAMU DF MOTOLANCIA - SAMAMBAIA II                     1\n",
       "SAMU DF MOTOLANCIA - SANTA MARIA II                   1\n",
       "SAMU DF USB - PLANO PILOTO III                        1\n",
       "Name: Hospital, Length: 147, dtype: int64"
      ]
     },
     "execution_count": 26,
     "metadata": {},
     "output_type": "execute_result"
    }
   ],
   "source": [
    "# Conta quantas vezes cada Hospital aparece na tabela\n",
    "df['Hospital'].value_counts()"
   ]
  },
  {
   "cell_type": "code",
   "execution_count": 27,
   "metadata": {},
   "outputs": [
    {
     "data": {
      "text/plain": [
       "Consulta Medica em Atenção Especializada                                                19687\n",
       "Exame Citopatológico Cervico Vaginal/microflora-rastreamento                            12328\n",
       "Consulta de Profissionais de Nivel Superior na Atenção Especializada (exceto Médico)     8235\n",
       "Pesquisa de Anticorpos Contra O Vírus da Hepatite C (anti-hcv)                           4833\n",
       "Atendimento Fisioterapêutico Nas Alterações Motoras                                      4139\n",
       "                                                                                        ...  \n",
       "Betaterapia para Profilaxia de Pterígio (por Campo)                                         1\n",
       "Planigrafia de Laringe                                                                      1\n",
       "Clearance de Fosfato                                                                        1\n",
       "Cauterizacão Quimica de Pequenas Lesões                                                     1\n",
       "Dosagem de Cobre                                                                            1\n",
       "Name: Procedimento, Length: 1272, dtype: int64"
      ]
     },
     "execution_count": 27,
     "metadata": {},
     "output_type": "execute_result"
    }
   ],
   "source": [
    "# Conta quantas vezes cada Procedimento aparece na tabela\n",
    "df['Procedimento'].value_counts()"
   ]
  },
  {
   "cell_type": "code",
   "execution_count": 29,
   "metadata": {},
   "outputs": [
    {
     "data": {
      "text/plain": [
       "<matplotlib.axes._subplots.AxesSubplot at 0x7ff8e0417c70>"
      ]
     },
     "execution_count": 29,
     "metadata": {},
     "output_type": "execute_result"
    },
    {
     "data": {
      "image/png": "[encoded data removed]",
      "text/plain": [
       "<Figure size 432x288 with 1 Axes>"
      ]
     },
     "metadata": {
      "needs_background": "light"
     },
     "output_type": "display_data"
    }
   ],
   "source": [
    "# Gráfico de barra com as quantidades de itens de acordo com seu Grupo\n",
    "df['Grupo'].value_counts().plot.bar()"
   ]
  },
  {
   "cell_type": "code",
   "execution_count": 30,
   "metadata": {},
   "outputs": [
    {
     "data": {
      "text/plain": [
       "02 - Procedimentos com Finalidade Diagnóstica     75825\n",
       "03 - Procedimentos Clínicos                       54006\n",
       "06 - Medicamentos                                 38398\n",
       "04 - Procedimentos Cirúrgicos                      4025\n",
       "05 - Transplantes de Orgãos, Tecidos e Células     3943\n",
       "07 - Órteses, Próteses e Materiais Especiais       2944\n",
       "01- Ações de Promoção e Prevenção em Saúde          677\n",
       "08 - Ações Complementares da Atenção à Saúde        464\n",
       "Name: Grupo, dtype: int64"
      ]
     },
     "execution_count": 30,
     "metadata": {},
     "output_type": "execute_result"
    }
   ],
   "source": [
    "# Podemos atribuir a uma variável\n",
    "count_grupo = df['Grupo'].value_counts()\n",
    "count_grupo"
   ]
  },
  {
   "cell_type": "code",
   "execution_count": 31,
   "metadata": {},
   "outputs": [
    {
     "data": {
      "text/plain": [
       "<matplotlib.axes._subplots.AxesSubplot at 0x7ff8e0478eb0>"
      ]
     },
     "execution_count": 31,
     "metadata": {},
     "output_type": "execute_result"
    },
    {
     "data": {
      "image/png": "[encoded data removed]",
      "text/plain": [
       "<Figure size 432x288 with 1 Axes>"
      ]
     },
     "metadata": {
      "needs_background": "light"
     },
     "output_type": "display_data"
    }
   ],
   "source": [
    "# Mostrando gráfico chamando pela variável atribuída\n",
    "count_grupo.plot.bar()"
   ]
  },
  {
   "cell_type": "code",
   "execution_count": 33,
   "metadata": {},
   "outputs": [
    {
     "data": {
      "text/html": [
       "<div>\n",
       "<style scoped>\n",
       "    .dataframe tbody tr th:only-of-type {\n",
       "        vertical-align: middle;\n",
       "    }\n",
       "\n",
       "    .dataframe tbody tr th {\n",
       "        vertical-align: top;\n",
       "    }\n",
       "\n",
       "    .dataframe thead th {\n",
       "        text-align: right;\n",
       "    }\n",
       "</style>\n",
       "<table border=\"1\" class=\"dataframe\">\n",
       "  <thead>\n",
       "    <tr style=\"text-align: right;\">\n",
       "      <th></th>\n",
       "      <th>Hospital</th>\n",
       "      <th>Complexidade</th>\n",
       "      <th>Grupo</th>\n",
       "      <th>SubGrupo</th>\n",
       "      <th>Procedimento</th>\n",
       "      <th>Quantidade</th>\n",
       "    </tr>\n",
       "  </thead>\n",
       "  <tbody>\n",
       "    <tr>\n",
       "      <th>11280</th>\n",
       "      <td>HOSPITAL MATERNO INFANTIL DE BRASILIA - HMIB</td>\n",
       "      <td>Média complexidade</td>\n",
       "      <td>02 - Procedimentos com Finalidade Diagnóstica</td>\n",
       "      <td>Sub Grupo: 02 - Diagnóstico em laboratório clí...</td>\n",
       "      <td>Dosagem de Ferro Sérico</td>\n",
       "      <td>300</td>\n",
       "    </tr>\n",
       "    <tr>\n",
       "      <th>11294</th>\n",
       "      <td>HOSPITAL MATERNO INFANTIL DE BRASILIA - HMIB</td>\n",
       "      <td>Média complexidade</td>\n",
       "      <td>02 - Procedimentos com Finalidade Diagnóstica</td>\n",
       "      <td>Sub Grupo: 02 - Diagnóstico em laboratório clí...</td>\n",
       "      <td>Dosagem de Gama-glutamil-transferase (gama Gt)</td>\n",
       "      <td>577</td>\n",
       "    </tr>\n",
       "    <tr>\n",
       "      <th>11308</th>\n",
       "      <td>HOSPITAL MATERNO INFANTIL DE BRASILIA - HMIB</td>\n",
       "      <td>Média complexidade</td>\n",
       "      <td>02 - Procedimentos com Finalidade Diagnóstica</td>\n",
       "      <td>Sub Grupo: 02 - Diagnóstico em laboratório clí...</td>\n",
       "      <td>Dosagem de Fosforo</td>\n",
       "      <td>377</td>\n",
       "    </tr>\n",
       "    <tr>\n",
       "      <th>11429</th>\n",
       "      <td>HOSPITAL MATERNO INFANTIL DE BRASILIA - HMIB</td>\n",
       "      <td>Média complexidade</td>\n",
       "      <td>02 - Procedimentos com Finalidade Diagnóstica</td>\n",
       "      <td>Sub Grupo: 02 - Diagnóstico em laboratório clí...</td>\n",
       "      <td>Dosagem de Fosfatase Alcalina</td>\n",
       "      <td>495</td>\n",
       "    </tr>\n",
       "    <tr>\n",
       "      <th>11471</th>\n",
       "      <td>HOSPITAL MATERNO INFANTIL DE BRASILIA - HMIB</td>\n",
       "      <td>Média complexidade</td>\n",
       "      <td>02 - Procedimentos com Finalidade Diagnóstica</td>\n",
       "      <td>Sub Grupo: 02 - Diagnóstico em laboratório clí...</td>\n",
       "      <td>Dosagem de Hemoglobina Glicosilada</td>\n",
       "      <td>623</td>\n",
       "    </tr>\n",
       "  </tbody>\n",
       "</table>\n",
       "</div>"
      ],
      "text/plain": [
       "                                           Hospital        Complexidade  \\\n",
       "11280  HOSPITAL MATERNO INFANTIL DE BRASILIA - HMIB  Média complexidade   \n",
       "11294  HOSPITAL MATERNO INFANTIL DE BRASILIA - HMIB  Média complexidade   \n",
       "11308  HOSPITAL MATERNO INFANTIL DE BRASILIA - HMIB  Média complexidade   \n",
       "11429  HOSPITAL MATERNO INFANTIL DE BRASILIA - HMIB  Média complexidade   \n",
       "11471  HOSPITAL MATERNO INFANTIL DE BRASILIA - HMIB  Média complexidade   \n",
       "\n",
       "                                               Grupo  \\\n",
       "11280  02 - Procedimentos com Finalidade Diagnóstica   \n",
       "11294  02 - Procedimentos com Finalidade Diagnóstica   \n",
       "11308  02 - Procedimentos com Finalidade Diagnóstica   \n",
       "11429  02 - Procedimentos com Finalidade Diagnóstica   \n",
       "11471  02 - Procedimentos com Finalidade Diagnóstica   \n",
       "\n",
       "                                                SubGrupo  \\\n",
       "11280  Sub Grupo: 02 - Diagnóstico em laboratório clí...   \n",
       "11294  Sub Grupo: 02 - Diagnóstico em laboratório clí...   \n",
       "11308  Sub Grupo: 02 - Diagnóstico em laboratório clí...   \n",
       "11429  Sub Grupo: 02 - Diagnóstico em laboratório clí...   \n",
       "11471  Sub Grupo: 02 - Diagnóstico em laboratório clí...   \n",
       "\n",
       "                                         Procedimento  Quantidade  \n",
       "11280                         Dosagem de Ferro Sérico         300  \n",
       "11294  Dosagem de Gama-glutamil-transferase (gama Gt)         577  \n",
       "11308                              Dosagem de Fosforo         377  \n",
       "11429                   Dosagem de Fosfatase Alcalina         495  \n",
       "11471              Dosagem de Hemoglobina Glicosilada         623  "
      ]
     },
     "execution_count": 33,
     "metadata": {},
     "output_type": "execute_result"
    }
   ],
   "source": [
    "# Cria novo dataframe apenas com os dados onde na coluna Hospital conter um determinado Hospital\n",
    "df_HMIB = df[df['Hospital'] == 'HOSPITAL MATERNO INFANTIL DE BRASILIA - HMIB']\n",
    "\n",
    "# Mostra os 5 primeiros registros\n",
    "df_HMIB.head()"
   ]
  },
  {
   "cell_type": "code",
   "execution_count": 36,
   "metadata": {},
   "outputs": [
    {
     "data": {
      "text/html": [
       "<div>\n",
       "<style scoped>\n",
       "    .dataframe tbody tr th:only-of-type {\n",
       "        vertical-align: middle;\n",
       "    }\n",
       "\n",
       "    .dataframe tbody tr th {\n",
       "        vertical-align: top;\n",
       "    }\n",
       "\n",
       "    .dataframe thead th {\n",
       "        text-align: right;\n",
       "    }\n",
       "</style>\n",
       "<table border=\"1\" class=\"dataframe\">\n",
       "  <thead>\n",
       "    <tr style=\"text-align: right;\">\n",
       "      <th></th>\n",
       "      <th>Hospital</th>\n",
       "      <th>Complexidade</th>\n",
       "      <th>Grupo</th>\n",
       "      <th>SubGrupo</th>\n",
       "      <th>Procedimento</th>\n",
       "      <th>Quantidade</th>\n",
       "    </tr>\n",
       "  </thead>\n",
       "  <tbody>\n",
       "    <tr>\n",
       "      <th>180277</th>\n",
       "      <td>HOSPITAL MATERNO INFANTIL DE BRASILIA - HMIB</td>\n",
       "      <td>Média complexidade</td>\n",
       "      <td>02 - Procedimentos com Finalidade Diagnóstica</td>\n",
       "      <td>Sub Grupo: 03 - Diagnóstico por anatomia patol...</td>\n",
       "      <td>Exame Citopatológico Cervico Vaginal/microflor...</td>\n",
       "      <td>1</td>\n",
       "    </tr>\n",
       "    <tr>\n",
       "      <th>180278</th>\n",
       "      <td>HOSPITAL MATERNO INFANTIL DE BRASILIA - HMIB</td>\n",
       "      <td>Média complexidade</td>\n",
       "      <td>02 - Procedimentos com Finalidade Diagnóstica</td>\n",
       "      <td>Sub Grupo: 03 - Diagnóstico por anatomia patol...</td>\n",
       "      <td>Exame Citopatológico Cervico Vaginal/microflor...</td>\n",
       "      <td>1</td>\n",
       "    </tr>\n",
       "    <tr>\n",
       "      <th>180279</th>\n",
       "      <td>HOSPITAL MATERNO INFANTIL DE BRASILIA - HMIB</td>\n",
       "      <td>Média complexidade</td>\n",
       "      <td>02 - Procedimentos com Finalidade Diagnóstica</td>\n",
       "      <td>Sub Grupo: 03 - Diagnóstico por anatomia patol...</td>\n",
       "      <td>Exame Citopatológico Cervico Vaginal/microflor...</td>\n",
       "      <td>1</td>\n",
       "    </tr>\n",
       "    <tr>\n",
       "      <th>180280</th>\n",
       "      <td>HOSPITAL MATERNO INFANTIL DE BRASILIA - HMIB</td>\n",
       "      <td>Média complexidade</td>\n",
       "      <td>02 - Procedimentos com Finalidade Diagnóstica</td>\n",
       "      <td>Sub Grupo: 03 - Diagnóstico por anatomia patol...</td>\n",
       "      <td>Exame Citopatológico Cervico Vaginal/microflor...</td>\n",
       "      <td>1</td>\n",
       "    </tr>\n",
       "    <tr>\n",
       "      <th>180281</th>\n",
       "      <td>HOSPITAL MATERNO INFANTIL DE BRASILIA - HMIB</td>\n",
       "      <td>Média complexidade</td>\n",
       "      <td>02 - Procedimentos com Finalidade Diagnóstica</td>\n",
       "      <td>Sub Grupo: 03 - Diagnóstico por anatomia patol...</td>\n",
       "      <td>Exame Citopatológico Cervico Vaginal/microflor...</td>\n",
       "      <td>1</td>\n",
       "    </tr>\n",
       "  </tbody>\n",
       "</table>\n",
       "</div>"
      ],
      "text/plain": [
       "                                            Hospital        Complexidade  \\\n",
       "180277  HOSPITAL MATERNO INFANTIL DE BRASILIA - HMIB  Média complexidade   \n",
       "180278  HOSPITAL MATERNO INFANTIL DE BRASILIA - HMIB  Média complexidade   \n",
       "180279  HOSPITAL MATERNO INFANTIL DE BRASILIA - HMIB  Média complexidade   \n",
       "180280  HOSPITAL MATERNO INFANTIL DE BRASILIA - HMIB  Média complexidade   \n",
       "180281  HOSPITAL MATERNO INFANTIL DE BRASILIA - HMIB  Média complexidade   \n",
       "\n",
       "                                                Grupo  \\\n",
       "180277  02 - Procedimentos com Finalidade Diagnóstica   \n",
       "180278  02 - Procedimentos com Finalidade Diagnóstica   \n",
       "180279  02 - Procedimentos com Finalidade Diagnóstica   \n",
       "180280  02 - Procedimentos com Finalidade Diagnóstica   \n",
       "180281  02 - Procedimentos com Finalidade Diagnóstica   \n",
       "\n",
       "                                                 SubGrupo  \\\n",
       "180277  Sub Grupo: 03 - Diagnóstico por anatomia patol...   \n",
       "180278  Sub Grupo: 03 - Diagnóstico por anatomia patol...   \n",
       "180279  Sub Grupo: 03 - Diagnóstico por anatomia patol...   \n",
       "180280  Sub Grupo: 03 - Diagnóstico por anatomia patol...   \n",
       "180281  Sub Grupo: 03 - Diagnóstico por anatomia patol...   \n",
       "\n",
       "                                             Procedimento  Quantidade  \n",
       "180277  Exame Citopatológico Cervico Vaginal/microflor...           1  \n",
       "180278  Exame Citopatológico Cervico Vaginal/microflor...           1  \n",
       "180279  Exame Citopatológico Cervico Vaginal/microflor...           1  \n",
       "180280  Exame Citopatológico Cervico Vaginal/microflor...           1  \n",
       "180281  Exame Citopatológico Cervico Vaginal/microflor...           1  "
      ]
     },
     "execution_count": 36,
     "metadata": {},
     "output_type": "execute_result"
    }
   ],
   "source": [
    "# Mostra os 5 últimos registros\n",
    "df_HMIB.tail()"
   ]
  },
  {
   "cell_type": "code",
   "execution_count": 40,
   "metadata": {},
   "outputs": [
    {
     "data": {
      "text/plain": [
       "Exame Citopatológico Cervico Vaginal/microflora-rastreamento                                            12327\n",
       "Exame Citopatologico Cervico-vaginal/microflora                                                          3415\n",
       "Consulta Medica em Atenção Especializada                                                                  593\n",
       "Mamografia Bilateral para Rastreamento                                                                    480\n",
       "Exame Anatomo-patológico para Congelamento / Parafina por Peça Cirúrgica ou por Biopsia (exceto Colo      192\n",
       "                                                                                                        ...  \n",
       "Dosagem de Ureia                                                                                            1\n",
       "Baciloscopia Direta p/ Baar (hanseniase)                                                                    1\n",
       "Dosagem de Colesterol Total                                                                                 1\n",
       "Acesso a Polpa Dentária e Medicacão (por Dente)                                                             1\n",
       "Tonometria                                                                                                  1\n",
       "Name: Procedimento, Length: 200, dtype: int64"
      ]
     },
     "execution_count": 40,
     "metadata": {},
     "output_type": "execute_result"
    }
   ],
   "source": [
    "# Conta valores de acordo com o Procedimento do hospital selecionado anteriormente\n",
    "df_HMIB['Procedimento'].value_counts()"
   ]
  },
  {
   "cell_type": "code",
   "execution_count": 50,
   "metadata": {},
   "outputs": [
    {
     "data": {
      "text/html": [
       "<div>\n",
       "<style scoped>\n",
       "    .dataframe tbody tr th:only-of-type {\n",
       "        vertical-align: middle;\n",
       "    }\n",
       "\n",
       "    .dataframe tbody tr th {\n",
       "        vertical-align: top;\n",
       "    }\n",
       "\n",
       "    .dataframe thead th {\n",
       "        text-align: right;\n",
       "    }\n",
       "</style>\n",
       "<table border=\"1\" class=\"dataframe\">\n",
       "  <thead>\n",
       "    <tr style=\"text-align: right;\">\n",
       "      <th></th>\n",
       "      <th>Hospital</th>\n",
       "      <th>Complexidade</th>\n",
       "      <th>Grupo</th>\n",
       "      <th>SubGrupo</th>\n",
       "      <th>Procedimento</th>\n",
       "      <th>Quantidade</th>\n",
       "    </tr>\n",
       "  </thead>\n",
       "  <tbody>\n",
       "    <tr>\n",
       "      <th>16337</th>\n",
       "      <td>HOSPITAL DIA</td>\n",
       "      <td>Média complexidade</td>\n",
       "      <td>03 - Procedimentos Clínicos</td>\n",
       "      <td>Sub Grupo: 01 - Consultas / Atendimentos / Aco...</td>\n",
       "      <td>Consulta Medica em Atenção Especializada</td>\n",
       "      <td>2</td>\n",
       "    </tr>\n",
       "    <tr>\n",
       "      <th>158298</th>\n",
       "      <td>FARMACIA DE ALTO CUSTO GAMA</td>\n",
       "      <td>Alta complexidade</td>\n",
       "      <td>06 - Medicamentos</td>\n",
       "      <td>Sub Grupo: 04 - Componente Especializado da As...</td>\n",
       "      <td>Quetiapina 200 Mg (por Comprimido)</td>\n",
       "      <td>0</td>\n",
       "    </tr>\n",
       "    <tr>\n",
       "      <th>89772</th>\n",
       "      <td>HRG</td>\n",
       "      <td>Média complexidade</td>\n",
       "      <td>03 - Procedimentos Clínicos</td>\n",
       "      <td>Sub Grupo: 02 - Fisioterapia</td>\n",
       "      <td>Atendimento Fisioterapêutico em Pacientes no P...</td>\n",
       "      <td>1</td>\n",
       "    </tr>\n",
       "    <tr>\n",
       "      <th>32248</th>\n",
       "      <td>SOCLIMED</td>\n",
       "      <td>Média complexidade</td>\n",
       "      <td>02 - Procedimentos com Finalidade Diagnóstica</td>\n",
       "      <td>Sub Grupo: 02 - Diagnóstico em laboratório clí...</td>\n",
       "      <td>Dosagem de Ureia</td>\n",
       "      <td>2</td>\n",
       "    </tr>\n",
       "    <tr>\n",
       "      <th>170413</th>\n",
       "      <td>CAPS AD III SAMAMBAIA</td>\n",
       "      <td>Média complexidade</td>\n",
       "      <td>03 - Procedimentos Clínicos</td>\n",
       "      <td>Sub Grupo: 01 - Consultas / Atendimentos / Aco...</td>\n",
       "      <td>Atendimento Individual de Paciente em Centro d...</td>\n",
       "      <td>1</td>\n",
       "    </tr>\n",
       "    <tr>\n",
       "      <th>119866</th>\n",
       "      <td>INSTITUTO HOSPITAL DE BASE DO DISTRITO FEDERAL</td>\n",
       "      <td>Média complexidade</td>\n",
       "      <td>02 - Procedimentos com Finalidade Diagnóstica</td>\n",
       "      <td>Sub Grupo: 11 - Métodos diagnósticos em especi...</td>\n",
       "      <td>Avaliação Funcional Muscular</td>\n",
       "      <td>1</td>\n",
       "    </tr>\n",
       "    <tr>\n",
       "      <th>33478</th>\n",
       "      <td>FARMACIA DE ALTO CUSTO GAMA</td>\n",
       "      <td>Alta complexidade</td>\n",
       "      <td>06 - Medicamentos</td>\n",
       "      <td>Sub Grupo: 04 - Componente Especializado da As...</td>\n",
       "      <td>Hidroxicloroquina 400 Mg (por Comprimido)</td>\n",
       "      <td>30</td>\n",
       "    </tr>\n",
       "  </tbody>\n",
       "</table>\n",
       "</div>"
      ],
      "text/plain": [
       "                                              Hospital        Complexidade  \\\n",
       "16337                                     HOSPITAL DIA  Média complexidade   \n",
       "158298                     FARMACIA DE ALTO CUSTO GAMA   Alta complexidade   \n",
       "89772                                              HRG  Média complexidade   \n",
       "32248                                         SOCLIMED  Média complexidade   \n",
       "170413                           CAPS AD III SAMAMBAIA  Média complexidade   \n",
       "119866  INSTITUTO HOSPITAL DE BASE DO DISTRITO FEDERAL  Média complexidade   \n",
       "33478                      FARMACIA DE ALTO CUSTO GAMA   Alta complexidade   \n",
       "\n",
       "                                                Grupo  \\\n",
       "16337                     03 - Procedimentos Clínicos   \n",
       "158298                              06 - Medicamentos   \n",
       "89772                     03 - Procedimentos Clínicos   \n",
       "32248   02 - Procedimentos com Finalidade Diagnóstica   \n",
       "170413                    03 - Procedimentos Clínicos   \n",
       "119866  02 - Procedimentos com Finalidade Diagnóstica   \n",
       "33478                               06 - Medicamentos   \n",
       "\n",
       "                                                 SubGrupo  \\\n",
       "16337   Sub Grupo: 01 - Consultas / Atendimentos / Aco...   \n",
       "158298  Sub Grupo: 04 - Componente Especializado da As...   \n",
       "89772                        Sub Grupo: 02 - Fisioterapia   \n",
       "32248   Sub Grupo: 02 - Diagnóstico em laboratório clí...   \n",
       "170413  Sub Grupo: 01 - Consultas / Atendimentos / Aco...   \n",
       "119866  Sub Grupo: 11 - Métodos diagnósticos em especi...   \n",
       "33478   Sub Grupo: 04 - Componente Especializado da As...   \n",
       "\n",
       "                                             Procedimento  Quantidade  \n",
       "16337            Consulta Medica em Atenção Especializada           2  \n",
       "158298                 Quetiapina 200 Mg (por Comprimido)           0  \n",
       "89772   Atendimento Fisioterapêutico em Pacientes no P...           1  \n",
       "32248                                    Dosagem de Ureia           2  \n",
       "170413  Atendimento Individual de Paciente em Centro d...           1  \n",
       "119866                       Avaliação Funcional Muscular           1  \n",
       "33478           Hidroxicloroquina 400 Mg (por Comprimido)          30  "
      ]
     },
     "execution_count": 50,
     "metadata": {},
     "output_type": "execute_result"
    }
   ],
   "source": [
    "# Lista Linhas aleatórias do dataframe\n",
    "df.sample(7)"
   ]
  },
  {
   "cell_type": "code",
   "execution_count": 55,
   "metadata": {},
   "outputs": [
    {
     "data": {
      "text/plain": [
       "Hospital        15922\n",
       "Complexidade    15922\n",
       "Grupo           15922\n",
       "SubGrupo        15922\n",
       "Procedimento    15922\n",
       "Quantidade      15922\n",
       "dtype: int64"
      ]
     },
     "execution_count": 55,
     "metadata": {},
     "output_type": "execute_result"
    }
   ],
   "source": [
    "# Conta quantos procedimentos relacionados a palavra vaginal foram realizados pelo hospital HMIB\n",
    "df_HMIB[df_HMIB['Procedimento'].str.contains('aginal')].count()"
   ]
  },
  {
   "cell_type": "code",
   "execution_count": 71,
   "metadata": {},
   "outputs": [
    {
     "data": {
      "text/html": [
       "<div>\n",
       "<style scoped>\n",
       "    .dataframe tbody tr th:only-of-type {\n",
       "        vertical-align: middle;\n",
       "    }\n",
       "\n",
       "    .dataframe tbody tr th {\n",
       "        vertical-align: top;\n",
       "    }\n",
       "\n",
       "    .dataframe thead th {\n",
       "        text-align: right;\n",
       "    }\n",
       "</style>\n",
       "<table border=\"1\" class=\"dataframe\">\n",
       "  <thead>\n",
       "    <tr style=\"text-align: right;\">\n",
       "      <th></th>\n",
       "      <th>Hospital</th>\n",
       "      <th>Complexidade</th>\n",
       "      <th>Grupo</th>\n",
       "      <th>SubGrupo</th>\n",
       "      <th>Procedimento</th>\n",
       "      <th>Quantidade</th>\n",
       "    </tr>\n",
       "  </thead>\n",
       "  <tbody>\n",
       "    <tr>\n",
       "      <th>737</th>\n",
       "      <td>IDR SAMAMBAIA SERVICOS MEDICOS</td>\n",
       "      <td>Média complexidade</td>\n",
       "      <td>02 - Procedimentos com Finalidade Diagnóstica</td>\n",
       "      <td>Sub Grupo: 02 - Diagnóstico em laboratório clí...</td>\n",
       "      <td>Dosagem de Ureia</td>\n",
       "      <td>2</td>\n",
       "    </tr>\n",
       "    <tr>\n",
       "      <th>739</th>\n",
       "      <td>IDR SAMAMBAIA SERVICOS MEDICOS</td>\n",
       "      <td>Média complexidade</td>\n",
       "      <td>02 - Procedimentos com Finalidade Diagnóstica</td>\n",
       "      <td>Sub Grupo: 02 - Diagnóstico em laboratório clí...</td>\n",
       "      <td>Dosagem de Ureia</td>\n",
       "      <td>2</td>\n",
       "    </tr>\n",
       "    <tr>\n",
       "      <th>740</th>\n",
       "      <td>IDR SAMAMBAIA SERVICOS MEDICOS</td>\n",
       "      <td>Média complexidade</td>\n",
       "      <td>02 - Procedimentos com Finalidade Diagnóstica</td>\n",
       "      <td>Sub Grupo: 02 - Diagnóstico em laboratório clí...</td>\n",
       "      <td>Dosagem de Ureia</td>\n",
       "      <td>2</td>\n",
       "    </tr>\n",
       "    <tr>\n",
       "      <th>741</th>\n",
       "      <td>IDR SAMAMBAIA SERVICOS MEDICOS</td>\n",
       "      <td>Média complexidade</td>\n",
       "      <td>02 - Procedimentos com Finalidade Diagnóstica</td>\n",
       "      <td>Sub Grupo: 02 - Diagnóstico em laboratório clí...</td>\n",
       "      <td>Dosagem de Ureia</td>\n",
       "      <td>2</td>\n",
       "    </tr>\n",
       "    <tr>\n",
       "      <th>742</th>\n",
       "      <td>IDR SAMAMBAIA SERVICOS MEDICOS</td>\n",
       "      <td>Média complexidade</td>\n",
       "      <td>02 - Procedimentos com Finalidade Diagnóstica</td>\n",
       "      <td>Sub Grupo: 02 - Diagnóstico em laboratório clí...</td>\n",
       "      <td>Dosagem de Ureia</td>\n",
       "      <td>2</td>\n",
       "    </tr>\n",
       "  </tbody>\n",
       "</table>\n",
       "</div>"
      ],
      "text/plain": [
       "                           Hospital        Complexidade  \\\n",
       "737  IDR SAMAMBAIA SERVICOS MEDICOS  Média complexidade   \n",
       "739  IDR SAMAMBAIA SERVICOS MEDICOS  Média complexidade   \n",
       "740  IDR SAMAMBAIA SERVICOS MEDICOS  Média complexidade   \n",
       "741  IDR SAMAMBAIA SERVICOS MEDICOS  Média complexidade   \n",
       "742  IDR SAMAMBAIA SERVICOS MEDICOS  Média complexidade   \n",
       "\n",
       "                                             Grupo  \\\n",
       "737  02 - Procedimentos com Finalidade Diagnóstica   \n",
       "739  02 - Procedimentos com Finalidade Diagnóstica   \n",
       "740  02 - Procedimentos com Finalidade Diagnóstica   \n",
       "741  02 - Procedimentos com Finalidade Diagnóstica   \n",
       "742  02 - Procedimentos com Finalidade Diagnóstica   \n",
       "\n",
       "                                              SubGrupo      Procedimento  \\\n",
       "737  Sub Grupo: 02 - Diagnóstico em laboratório clí...  Dosagem de Ureia   \n",
       "739  Sub Grupo: 02 - Diagnóstico em laboratório clí...  Dosagem de Ureia   \n",
       "740  Sub Grupo: 02 - Diagnóstico em laboratório clí...  Dosagem de Ureia   \n",
       "741  Sub Grupo: 02 - Diagnóstico em laboratório clí...  Dosagem de Ureia   \n",
       "742  Sub Grupo: 02 - Diagnóstico em laboratório clí...  Dosagem de Ureia   \n",
       "\n",
       "     Quantidade  \n",
       "737           2  \n",
       "739           2  \n",
       "740           2  \n",
       "741           2  \n",
       "742           2  "
      ]
     },
     "execution_count": 71,
     "metadata": {},
     "output_type": "execute_result"
    }
   ],
   "source": [
    "# Dividir o DF original apenas para os procedimentos relacionados com ginecologia\n",
    "# e saber quais os hospitais que mais realizam\n",
    "df_gine = df[df['Procedimento'] == 'Dosagem de Ureia']\n",
    "df_gine.head()"
   ]
  },
  {
   "cell_type": "code",
   "execution_count": 84,
   "metadata": {},
   "outputs": [
    {
     "data": {
      "text/plain": [
       "IDR SAMAMBAIA SERVICOS MEDICOS                    210\n",
       "RENAL CARE                                        192\n",
       "SOCLIMED                                          168\n",
       "ULTRAMED                                          163\n",
       "INSTITUTO HOSPITAL DE BASE DO DISTRITO FEDERAL    140\n",
       "HRT HOSPITAL REGIONAL DE TAGUATINGA               124\n",
       "SEANE SERVICO DE ASSISTENCIA CLIN                 114\n",
       "CLINICA DE NEFROLOGIA RENAL VIDA - CNRV           109\n",
       "HRS                                               105\n",
       "HOSPITAL UNIVERSITARIO DE BRASILIA                 68\n",
       "HOSPITAL REGIONAL DE CEILANDIA                     38\n",
       "HRL                                                20\n",
       "HRG                                                19\n",
       "HRSM                                               15\n",
       "HRSAM - HOSPITAL REGIONAL DE SAMAMBAIA              7\n",
       "UNIDADE DE PRONTO ATENDIMENTO CEILANDIA             4\n",
       "NEPHRON                                             4\n",
       "Name: Hospital, dtype: int64"
      ]
     },
     "execution_count": 84,
     "metadata": {},
     "output_type": "execute_result"
    }
   ],
   "source": [
    "# Conta quantos procedimentos definidos no df_gine foram realizados por cada Hospital\n",
    "# Pegamos apenas os 16 primeiros\n",
    "df_gine['Hospital'].value_counts()[0:17]"
   ]
  },
  {
   "cell_type": "code",
   "execution_count": 87,
   "metadata": {},
   "outputs": [
    {
     "data": {
      "text/plain": [
       "<matplotlib.axes._subplots.AxesSubplot at 0x7ff8d44eba00>"
      ]
     },
     "execution_count": 87,
     "metadata": {},
     "output_type": "execute_result"
    },
    {
     "data": {
      "image/png": "[encoded data removed]",
      "text/plain": [
       "<Figure size 432x288 with 1 Axes>"
      ]
     },
     "metadata": {
      "needs_background": "light"
     },
     "output_type": "display_data"
    }
   ],
   "source": [
    "# Plotamos um gráfico em barra horizontal\n",
    "df_gine['Hospital'].value_counts()[0:17].plot.barh()"
   ]
  },
  {
   "cell_type": "code",
   "execution_count": 94,
   "metadata": {},
   "outputs": [
    {
     "data": {
      "text/plain": [
       "<matplotlib.axes._subplots.AxesSubplot at 0x7ff8d1e616d0>"
      ]
     },
     "execution_count": 94,
     "metadata": {},
     "output_type": "execute_result"
    },
    {
     "data": {
      "image/png": "[encoded data removed]",
      "text/plain": [
       "<Figure size 432x288 with 1 Axes>"
      ]
     },
     "metadata": {
      "needs_background": "light"
     },
     "output_type": "display_data"
    }
   ],
   "source": [
    "# Melhora ordem do gráfico e dar um título\n",
    "df_gine['Hospital'].value_counts(ascending=True)[-17:].plot.barh(title='Quantidade de Proc Dosagem de Ureia por Hospital')"
   ]
  },
  {
   "cell_type": "code",
   "execution_count": 78,
   "metadata": {},
   "outputs": [
    {
     "data": {
      "text/plain": [
       "Média complexidade    1519\n",
       "Name: Complexidade, dtype: int64"
      ]
     },
     "execution_count": 78,
     "metadata": {},
     "output_type": "execute_result"
    }
   ],
   "source": [
    "# Conta quantas entradas tem no dataframe pela coluna Complexidade\n",
    "df_gine['Complexidade'].value_counts()"
   ]
  },
  {
   "cell_type": "code",
   "execution_count": 79,
   "metadata": {},
   "outputs": [
    {
     "data": {
      "text/plain": [
       "Hospital        1519\n",
       "Complexidade    1519\n",
       "Grupo           1519\n",
       "SubGrupo        1519\n",
       "Procedimento    1519\n",
       "Quantidade      1519\n",
       "dtype: int64"
      ]
     },
     "execution_count": 79,
     "metadata": {},
     "output_type": "execute_result"
    }
   ],
   "source": [
    "# Conta quantas entradas tem no dataframe por cada coluna\n",
    "df_gine.count()"
   ]
  }
 ],
 "metadata": {
  "kernelspec": {
   "display_name": "Python 3",
   "language": "python",
   "name": "python3"
  },
  "language_info": {
   "codemirror_mode": {
    "name": "ipython",
    "version": 3
   },
   "file_extension": ".py",
   "mimetype": "text/x-python",
   "name": "python",
   "nbconvert_exporter": "python",
   "pygments_lexer": "ipython3",
   "version": "3.8.3"
  }
 },
 "nbformat": 4,
 "nbformat_minor": 4
}
